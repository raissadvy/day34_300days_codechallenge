{
 "cells": [
  {
   "cell_type": "code",
   "execution_count": 441,
   "metadata": {},
   "outputs": [],
   "source": [
    "import pandas as pd\n",
    "import numpy as np\n",
    "import seaborn as sns\n",
    "import matplotlib.pyplot as plt\n",
    "from sklearn.cluster import KMeans\n",
    "\n",
    "from scipy.spatial.distance import cdist, pdist \n",
    "from sklearn.metrics import silhouette_score\n",
    "from sklearn.cluster import AgglomerativeClustering,KMeans\n",
    "from scipy.cluster.hierarchy import dendrogram, ward, average, complete, single\n",
    "\n",
    "import xgboost as xgb\n",
    "\n",
    "from sklearn.preprocessing import PolynomialFeatures\n",
    "from sklearn.model_selection import train_test_split\n",
    "from sklearn.model_selection import cross_val_score, StratifiedKFold\n",
    "from sklearn.linear_model import LogisticRegression\n",
    "from sklearn.neighbors import KNeighborsClassifier\n",
    "from sklearn.tree import DecisionTreeRegressor\n",
    "from sklearn.ensemble import RandomForestRegressor\n",
    "from sklearn.pipeline import Pipeline\n",
    "from sklearn.decomposition import PCA\n",
    "from sklearn.impute import SimpleImputer\n",
    "from sklearn.feature_selection import RFE\n",
    "from sklearn.model_selection import GridSearchCV, StratifiedKFold\n",
    "from sklearn.preprocessing import OneHotEncoder, StandardScaler\n",
    "from sklearn.compose import ColumnTransformer\n",
    "from sklearn.cluster import KMeans\n",
    "\n",
    "import category_encoders as ce\n",
    "\n",
    "from imblearn.pipeline import Pipeline\n",
    "from imblearn.over_sampling import RandomOverSampler, SMOTE\n",
    "from imblearn.under_sampling import RandomUnderSampler\n",
    "\n",
    "pd.options.display.max_columns = 100"
   ]
  },
  {
   "cell_type": "code",
   "execution_count": 2,
   "metadata": {},
   "outputs": [
    {
     "data": {
      "text/html": [
       "<div>\n",
       "<style scoped>\n",
       "    .dataframe tbody tr th:only-of-type {\n",
       "        vertical-align: middle;\n",
       "    }\n",
       "\n",
       "    .dataframe tbody tr th {\n",
       "        vertical-align: top;\n",
       "    }\n",
       "\n",
       "    .dataframe thead th {\n",
       "        text-align: right;\n",
       "    }\n",
       "</style>\n",
       "<table border=\"1\" class=\"dataframe\">\n",
       "  <thead>\n",
       "    <tr style=\"text-align: right;\">\n",
       "      <th></th>\n",
       "      <th>Campaign</th>\n",
       "      <th>Hour of day</th>\n",
       "      <th>Campaign type</th>\n",
       "      <th>Campaign subtype</th>\n",
       "      <th>Device</th>\n",
       "      <th>Currency</th>\n",
       "      <th>Impr. (Top) %</th>\n",
       "      <th>Clicks</th>\n",
       "      <th>Impressions</th>\n",
       "      <th>CTR</th>\n",
       "      <th>Avg. CPC</th>\n",
       "      <th>Cost</th>\n",
       "      <th>Conversions</th>\n",
       "      <th>View-through Conv.</th>\n",
       "      <th>Cost / conv.</th>\n",
       "      <th>Conv. rate</th>\n",
       "    </tr>\n",
       "  </thead>\n",
       "  <tbody>\n",
       "    <tr>\n",
       "      <th>0</th>\n",
       "      <td>rumahSubsidi // griyaBukitIntan</td>\n",
       "      <td>1</td>\n",
       "      <td>Search</td>\n",
       "      <td>All features</td>\n",
       "      <td>Desktop</td>\n",
       "      <td>IDR</td>\n",
       "      <td>0.00%</td>\n",
       "      <td>0</td>\n",
       "      <td>37</td>\n",
       "      <td>0.00%</td>\n",
       "      <td>00.00</td>\n",
       "      <td>00.00</td>\n",
       "      <td>00.00</td>\n",
       "      <td>0</td>\n",
       "      <td>00.00</td>\n",
       "      <td>0.00%</td>\n",
       "    </tr>\n",
       "    <tr>\n",
       "      <th>1</th>\n",
       "      <td>rumahSubsidi // griyaBukitIntan</td>\n",
       "      <td>16</td>\n",
       "      <td>Search</td>\n",
       "      <td>All features</td>\n",
       "      <td>Mobile</td>\n",
       "      <td>IDR</td>\n",
       "      <td>100.00%</td>\n",
       "      <td>29</td>\n",
       "      <td>2,831</td>\n",
       "      <td>1.02%</td>\n",
       "      <td>1,073.89</td>\n",
       "      <td>31,142.69</td>\n",
       "      <td>02.00</td>\n",
       "      <td>0</td>\n",
       "      <td>15,571.35</td>\n",
       "      <td>6.90%</td>\n",
       "    </tr>\n",
       "    <tr>\n",
       "      <th>2</th>\n",
       "      <td>rumahSubsidi // griyaBukitIntan</td>\n",
       "      <td>20</td>\n",
       "      <td>Search</td>\n",
       "      <td>All features</td>\n",
       "      <td>Desktop</td>\n",
       "      <td>IDR</td>\n",
       "      <td>0.00%</td>\n",
       "      <td>0</td>\n",
       "      <td>217</td>\n",
       "      <td>0.00%</td>\n",
       "      <td>00.00</td>\n",
       "      <td>00.00</td>\n",
       "      <td>00.00</td>\n",
       "      <td>0</td>\n",
       "      <td>00.00</td>\n",
       "      <td>0.00%</td>\n",
       "    </tr>\n",
       "    <tr>\n",
       "      <th>3</th>\n",
       "      <td>rumahSubsidi // griyaBukitIntan</td>\n",
       "      <td>15</td>\n",
       "      <td>Search</td>\n",
       "      <td>All features</td>\n",
       "      <td>Desktop</td>\n",
       "      <td>IDR</td>\n",
       "      <td>60.00%</td>\n",
       "      <td>0</td>\n",
       "      <td>534</td>\n",
       "      <td>0.00%</td>\n",
       "      <td>00.00</td>\n",
       "      <td>00.00</td>\n",
       "      <td>00.00</td>\n",
       "      <td>0</td>\n",
       "      <td>00.00</td>\n",
       "      <td>0.00%</td>\n",
       "    </tr>\n",
       "    <tr>\n",
       "      <th>4</th>\n",
       "      <td>rumahSubsidi // griyaBukitIntan</td>\n",
       "      <td>8</td>\n",
       "      <td>Search</td>\n",
       "      <td>All features</td>\n",
       "      <td>Mobile</td>\n",
       "      <td>IDR</td>\n",
       "      <td>100.00%</td>\n",
       "      <td>9</td>\n",
       "      <td>1,473</td>\n",
       "      <td>0.61%</td>\n",
       "      <td>1,016.65</td>\n",
       "      <td>9,149.82</td>\n",
       "      <td>00.00</td>\n",
       "      <td>0</td>\n",
       "      <td>00.00</td>\n",
       "      <td>0.00%</td>\n",
       "    </tr>\n",
       "    <tr>\n",
       "      <th>...</th>\n",
       "      <td>...</td>\n",
       "      <td>...</td>\n",
       "      <td>...</td>\n",
       "      <td>...</td>\n",
       "      <td>...</td>\n",
       "      <td>...</td>\n",
       "      <td>...</td>\n",
       "      <td>...</td>\n",
       "      <td>...</td>\n",
       "      <td>...</td>\n",
       "      <td>...</td>\n",
       "      <td>...</td>\n",
       "      <td>...</td>\n",
       "      <td>...</td>\n",
       "      <td>...</td>\n",
       "      <td>...</td>\n",
       "    </tr>\n",
       "    <tr>\n",
       "      <th>270</th>\n",
       "      <td>CPA Leads Experiment</td>\n",
       "      <td>19</td>\n",
       "      <td>Search</td>\n",
       "      <td>All features</td>\n",
       "      <td>Tablet</td>\n",
       "      <td>IDR</td>\n",
       "      <td>0.00%</td>\n",
       "      <td>0</td>\n",
       "      <td>20</td>\n",
       "      <td>0.00%</td>\n",
       "      <td>00.00</td>\n",
       "      <td>00.00</td>\n",
       "      <td>00.00</td>\n",
       "      <td>0</td>\n",
       "      <td>00.00</td>\n",
       "      <td>0.00%</td>\n",
       "    </tr>\n",
       "    <tr>\n",
       "      <th>271</th>\n",
       "      <td>CPA Leads Experiment</td>\n",
       "      <td>15</td>\n",
       "      <td>Search</td>\n",
       "      <td>All features</td>\n",
       "      <td>Desktop</td>\n",
       "      <td>IDR</td>\n",
       "      <td>50.00%</td>\n",
       "      <td>4</td>\n",
       "      <td>390</td>\n",
       "      <td>1.03%</td>\n",
       "      <td>1,578.96</td>\n",
       "      <td>6,315.84</td>\n",
       "      <td>00.00</td>\n",
       "      <td>0</td>\n",
       "      <td>00.00</td>\n",
       "      <td>0.00%</td>\n",
       "    </tr>\n",
       "    <tr>\n",
       "      <th>272</th>\n",
       "      <td>CPA Leads Experiment</td>\n",
       "      <td>5</td>\n",
       "      <td>Search</td>\n",
       "      <td>All features</td>\n",
       "      <td>Desktop</td>\n",
       "      <td>IDR</td>\n",
       "      <td>100.00%</td>\n",
       "      <td>0</td>\n",
       "      <td>17</td>\n",
       "      <td>0.00%</td>\n",
       "      <td>00.00</td>\n",
       "      <td>00.00</td>\n",
       "      <td>00.00</td>\n",
       "      <td>0</td>\n",
       "      <td>00.00</td>\n",
       "      <td>0.00%</td>\n",
       "    </tr>\n",
       "    <tr>\n",
       "      <th>273</th>\n",
       "      <td>Promo // Griya Bukit Intan // 4 Juta</td>\n",
       "      <td>15</td>\n",
       "      <td>Search</td>\n",
       "      <td>All features</td>\n",
       "      <td>Desktop</td>\n",
       "      <td>IDR</td>\n",
       "      <td>100.00%</td>\n",
       "      <td>3</td>\n",
       "      <td>11</td>\n",
       "      <td>27.27%</td>\n",
       "      <td>4,020.00</td>\n",
       "      <td>12,060.00</td>\n",
       "      <td>00.00</td>\n",
       "      <td>0</td>\n",
       "      <td>00.00</td>\n",
       "      <td>0.00%</td>\n",
       "    </tr>\n",
       "    <tr>\n",
       "      <th>274</th>\n",
       "      <td>Promo // Griya Bukit Intan // 4 Juta</td>\n",
       "      <td>3</td>\n",
       "      <td>Search</td>\n",
       "      <td>All features</td>\n",
       "      <td>Tablet</td>\n",
       "      <td>IDR</td>\n",
       "      <td>100.00%</td>\n",
       "      <td>0</td>\n",
       "      <td>2</td>\n",
       "      <td>0.00%</td>\n",
       "      <td>00.00</td>\n",
       "      <td>00.00</td>\n",
       "      <td>00.00</td>\n",
       "      <td>0</td>\n",
       "      <td>00.00</td>\n",
       "      <td>0.00%</td>\n",
       "    </tr>\n",
       "  </tbody>\n",
       "</table>\n",
       "<p>275 rows × 16 columns</p>\n",
       "</div>"
      ],
      "text/plain": [
       "                                 Campaign  Hour of day Campaign type  \\\n",
       "0         rumahSubsidi // griyaBukitIntan            1        Search   \n",
       "1         rumahSubsidi // griyaBukitIntan           16        Search   \n",
       "2         rumahSubsidi // griyaBukitIntan           20        Search   \n",
       "3         rumahSubsidi // griyaBukitIntan           15        Search   \n",
       "4         rumahSubsidi // griyaBukitIntan            8        Search   \n",
       "..                                    ...          ...           ...   \n",
       "270                  CPA Leads Experiment           19        Search   \n",
       "271                  CPA Leads Experiment           15        Search   \n",
       "272                  CPA Leads Experiment            5        Search   \n",
       "273  Promo // Griya Bukit Intan // 4 Juta           15        Search   \n",
       "274  Promo // Griya Bukit Intan // 4 Juta            3        Search   \n",
       "\n",
       "    Campaign subtype   Device Currency Impr. (Top) %  Clicks Impressions  \\\n",
       "0       All features  Desktop      IDR         0.00%       0          37   \n",
       "1       All features   Mobile      IDR       100.00%      29       2,831   \n",
       "2       All features  Desktop      IDR         0.00%       0         217   \n",
       "3       All features  Desktop      IDR        60.00%       0         534   \n",
       "4       All features   Mobile      IDR       100.00%       9       1,473   \n",
       "..               ...      ...      ...           ...     ...         ...   \n",
       "270     All features   Tablet      IDR         0.00%       0          20   \n",
       "271     All features  Desktop      IDR        50.00%       4         390   \n",
       "272     All features  Desktop      IDR       100.00%       0          17   \n",
       "273     All features  Desktop      IDR       100.00%       3          11   \n",
       "274     All features   Tablet      IDR       100.00%       0           2   \n",
       "\n",
       "        CTR  Avg. CPC       Cost Conversions  View-through Conv. Cost / conv.  \\\n",
       "0     0.00%     00.00      00.00       00.00                   0        00.00   \n",
       "1     1.02%  1,073.89  31,142.69       02.00                   0    15,571.35   \n",
       "2     0.00%     00.00      00.00       00.00                   0        00.00   \n",
       "3     0.00%     00.00      00.00       00.00                   0        00.00   \n",
       "4     0.61%  1,016.65   9,149.82       00.00                   0        00.00   \n",
       "..      ...       ...        ...         ...                 ...          ...   \n",
       "270   0.00%     00.00      00.00       00.00                   0        00.00   \n",
       "271   1.03%  1,578.96   6,315.84       00.00                   0        00.00   \n",
       "272   0.00%     00.00      00.00       00.00                   0        00.00   \n",
       "273  27.27%  4,020.00  12,060.00       00.00                   0        00.00   \n",
       "274   0.00%     00.00      00.00       00.00                   0        00.00   \n",
       "\n",
       "    Conv. rate  \n",
       "0        0.00%  \n",
       "1        6.90%  \n",
       "2        0.00%  \n",
       "3        0.00%  \n",
       "4        0.00%  \n",
       "..         ...  \n",
       "270      0.00%  \n",
       "271      0.00%  \n",
       "272      0.00%  \n",
       "273      0.00%  \n",
       "274      0.00%  \n",
       "\n",
       "[275 rows x 16 columns]"
      ]
     },
     "execution_count": 2,
     "metadata": {},
     "output_type": "execute_result"
    }
   ],
   "source": [
    "hod = pd.read_csv(\"Hour of Day1 October 2020 - 26 January 2021.csv\", sep=';')\n",
    "hod"
   ]
  },
  {
   "cell_type": "code",
   "execution_count": 3,
   "metadata": {},
   "outputs": [
    {
     "data": {
      "text/plain": [
       "Index(['Campaign', 'Hour of day', 'Campaign type', 'Campaign subtype',\n",
       "       'Device', 'Currency', 'Impr. (Top) %', 'Clicks', 'Impressions', 'CTR',\n",
       "       'Avg. CPC', 'Cost', 'Conversions', 'View-through Conv.', 'Cost / conv.',\n",
       "       'Conv. rate'],\n",
       "      dtype='object')"
      ]
     },
     "execution_count": 3,
     "metadata": {},
     "output_type": "execute_result"
    }
   ],
   "source": [
    "hod.columns"
   ]
  },
  {
   "cell_type": "code",
   "execution_count": 69,
   "metadata": {},
   "outputs": [
    {
     "name": "stdout",
     "output_type": "stream",
     "text": [
      "<class 'pandas.core.frame.DataFrame'>\n",
      "RangeIndex: 275 entries, 0 to 274\n",
      "Data columns (total 16 columns):\n",
      " #   Column            Non-Null Count  Dtype  \n",
      "---  ------            --------------  -----  \n",
      " 0   campaign          275 non-null    object \n",
      " 1   hourofday         275 non-null    int64  \n",
      " 2   campaigntype      275 non-null    object \n",
      " 3   campaignsubtype   275 non-null    object \n",
      " 4   device            275 non-null    object \n",
      " 5   currency          275 non-null    object \n",
      " 6   impr(top)%        275 non-null    float64\n",
      " 7   clicks            275 non-null    int64  \n",
      " 8   impressions       275 non-null    int64  \n",
      " 9   ctr               275 non-null    float64\n",
      " 10  avgcpc            275 non-null    object \n",
      " 11  cost              275 non-null    object \n",
      " 12  conversions       275 non-null    float64\n",
      " 13  view-throughconv  275 non-null    int64  \n",
      " 14  cost/conv         275 non-null    float64\n",
      " 15  convrate          275 non-null    float64\n",
      "dtypes: float64(5), int64(4), object(7)\n",
      "memory usage: 34.5+ KB\n"
     ]
    }
   ],
   "source": [
    "hod.info()"
   ]
  },
  {
   "cell_type": "code",
   "execution_count": 6,
   "metadata": {},
   "outputs": [
    {
     "data": {
      "text/plain": [
       "Index(['campaign', 'hourofday', 'campaigntype', 'campaignsubtype', 'device',\n",
       "       'currency', 'impr(top)%', 'clicks', 'impressions', 'ctr', 'avgcpc',\n",
       "       'cost', 'conversions', 'view-throughconv', 'cost/conv', 'convrate'],\n",
       "      dtype='object')"
      ]
     },
     "execution_count": 6,
     "metadata": {},
     "output_type": "execute_result"
    }
   ],
   "source": [
    "hod.columns = hod.columns.str.lower().str.replace(' ','').str.replace('.','')\n",
    "hod.columns"
   ]
  },
  {
   "cell_type": "markdown",
   "metadata": {},
   "source": [
    "'campaign', -- OK\n",
    "'hourofday',  -- OK\n",
    "'campaigntype',  -- OK\n",
    "'campaignsubtype',  -- OK\n",
    "'device',  -- OK\n",
    "'currency',  -- OK\n",
    "'impr(top)%', -- OK, the location of your ads on the Search engine result\n",
    "'clicks',  -- OK\n",
    "'impressions',  -- OK, banyaknya yang liat\n",
    "'ctr', -- OK, click through rate\n",
    "'avgcpc',  -- OK, average cost per click\n",
    "'cost',  -- OK \n",
    "'conversions', -- OK \n",
    "'view-throughconv', \n",
    "'cost/conv', \n",
    "'convrate"
   ]
  },
  {
   "cell_type": "markdown",
   "metadata": {},
   "source": [
    "__Search top impression rate__<br>\n",
    "Search top impression rate “Impr. (Top) %” is the percent of your ad impressions that are shown anywhere above the organic search results.\n",
    "Search top impression rate = Impressions on top/Impressions\n",
    "\n",
    "__CTR__<br>\n",
    "You can use these metrics to understand changes in click-through rate (CTR) caused by a change in the location of your ads on the search result page. We don’t recommend you use these metrics as a target to set your bids because, sometimes, they may decrease as bids increase. This happens as higher bids may allow you to enter more competitive auctions in a worse location.\n",
    "\n",
    "__view-throughconv__<br>\n",
    "The period of time after an impression during which a view-through conversion will be recorded. View-through conversions occur after an ad impression, if the user doesn’t interact with the ad, then later converts.\n",
    "\n",
    "You can set your view-through conversion window when you create or edit conversion actions. For example, if you pick 30 days for a conversion action, then view-through conversions that happen within 30 days after an impression are tracked. A longer view-through conversion window will usually increase the number of view-through conversions Google Ads records.\n",
    "\n",
    "__cost/conv__\n",
    "Cost per conversion "
   ]
  },
  {
   "cell_type": "code",
   "execution_count": 70,
   "metadata": {},
   "outputs": [
    {
     "data": {
      "text/html": [
       "<div>\n",
       "<style scoped>\n",
       "    .dataframe tbody tr th:only-of-type {\n",
       "        vertical-align: middle;\n",
       "    }\n",
       "\n",
       "    .dataframe tbody tr th {\n",
       "        vertical-align: top;\n",
       "    }\n",
       "\n",
       "    .dataframe thead th {\n",
       "        text-align: right;\n",
       "    }\n",
       "</style>\n",
       "<table border=\"1\" class=\"dataframe\">\n",
       "  <thead>\n",
       "    <tr style=\"text-align: right;\">\n",
       "      <th></th>\n",
       "      <th>hourofday</th>\n",
       "      <th>impr(top)%</th>\n",
       "      <th>clicks</th>\n",
       "      <th>impressions</th>\n",
       "      <th>ctr</th>\n",
       "      <th>conversions</th>\n",
       "      <th>view-throughconv</th>\n",
       "      <th>cost/conv</th>\n",
       "      <th>convrate</th>\n",
       "    </tr>\n",
       "  </thead>\n",
       "  <tbody>\n",
       "    <tr>\n",
       "      <th>count</th>\n",
       "      <td>275.000000</td>\n",
       "      <td>275.000000</td>\n",
       "      <td>275.000000</td>\n",
       "      <td>275.000000</td>\n",
       "      <td>275.000000</td>\n",
       "      <td>275.000000</td>\n",
       "      <td>275.0</td>\n",
       "      <td>275.000000</td>\n",
       "      <td>275.000000</td>\n",
       "    </tr>\n",
       "    <tr>\n",
       "      <th>mean</th>\n",
       "      <td>11.527273</td>\n",
       "      <td>40.073891</td>\n",
       "      <td>3.156364</td>\n",
       "      <td>231.178182</td>\n",
       "      <td>3.180255</td>\n",
       "      <td>0.200030</td>\n",
       "      <td>0.0</td>\n",
       "      <td>2696.115382</td>\n",
       "      <td>1.703345</td>\n",
       "    </tr>\n",
       "    <tr>\n",
       "      <th>std</th>\n",
       "      <td>6.986051</td>\n",
       "      <td>45.364112</td>\n",
       "      <td>6.486448</td>\n",
       "      <td>652.529425</td>\n",
       "      <td>8.783731</td>\n",
       "      <td>0.626656</td>\n",
       "      <td>0.0</td>\n",
       "      <td>9735.574794</td>\n",
       "      <td>5.573938</td>\n",
       "    </tr>\n",
       "    <tr>\n",
       "      <th>min</th>\n",
       "      <td>0.000000</td>\n",
       "      <td>0.000000</td>\n",
       "      <td>0.000000</td>\n",
       "      <td>0.000000</td>\n",
       "      <td>0.000000</td>\n",
       "      <td>0.000000</td>\n",
       "      <td>0.0</td>\n",
       "      <td>0.000000</td>\n",
       "      <td>0.000000</td>\n",
       "    </tr>\n",
       "    <tr>\n",
       "      <th>25%</th>\n",
       "      <td>5.500000</td>\n",
       "      <td>0.000000</td>\n",
       "      <td>0.000000</td>\n",
       "      <td>0.000000</td>\n",
       "      <td>0.000000</td>\n",
       "      <td>0.000000</td>\n",
       "      <td>0.0</td>\n",
       "      <td>0.000000</td>\n",
       "      <td>0.000000</td>\n",
       "    </tr>\n",
       "    <tr>\n",
       "      <th>50%</th>\n",
       "      <td>12.000000</td>\n",
       "      <td>0.000000</td>\n",
       "      <td>0.000000</td>\n",
       "      <td>11.000000</td>\n",
       "      <td>0.000000</td>\n",
       "      <td>0.000000</td>\n",
       "      <td>0.0</td>\n",
       "      <td>0.000000</td>\n",
       "      <td>0.000000</td>\n",
       "    </tr>\n",
       "    <tr>\n",
       "      <th>75%</th>\n",
       "      <td>18.000000</td>\n",
       "      <td>92.705000</td>\n",
       "      <td>3.000000</td>\n",
       "      <td>134.500000</td>\n",
       "      <td>1.190000</td>\n",
       "      <td>0.000000</td>\n",
       "      <td>0.0</td>\n",
       "      <td>0.000000</td>\n",
       "      <td>0.000000</td>\n",
       "    </tr>\n",
       "    <tr>\n",
       "      <th>max</th>\n",
       "      <td>23.000000</td>\n",
       "      <td>100.000000</td>\n",
       "      <td>29.000000</td>\n",
       "      <td>4369.000000</td>\n",
       "      <td>100.000000</td>\n",
       "      <td>4.000000</td>\n",
       "      <td>0.0</td>\n",
       "      <td>67990.000000</td>\n",
       "      <td>40.000000</td>\n",
       "    </tr>\n",
       "  </tbody>\n",
       "</table>\n",
       "</div>"
      ],
      "text/plain": [
       "        hourofday  impr(top)%      clicks  impressions         ctr  \\\n",
       "count  275.000000  275.000000  275.000000   275.000000  275.000000   \n",
       "mean    11.527273   40.073891    3.156364   231.178182    3.180255   \n",
       "std      6.986051   45.364112    6.486448   652.529425    8.783731   \n",
       "min      0.000000    0.000000    0.000000     0.000000    0.000000   \n",
       "25%      5.500000    0.000000    0.000000     0.000000    0.000000   \n",
       "50%     12.000000    0.000000    0.000000    11.000000    0.000000   \n",
       "75%     18.000000   92.705000    3.000000   134.500000    1.190000   \n",
       "max     23.000000  100.000000   29.000000  4369.000000  100.000000   \n",
       "\n",
       "       conversions  view-throughconv     cost/conv    convrate  \n",
       "count   275.000000             275.0    275.000000  275.000000  \n",
       "mean      0.200030               0.0   2696.115382    1.703345  \n",
       "std       0.626656               0.0   9735.574794    5.573938  \n",
       "min       0.000000               0.0      0.000000    0.000000  \n",
       "25%       0.000000               0.0      0.000000    0.000000  \n",
       "50%       0.000000               0.0      0.000000    0.000000  \n",
       "75%       0.000000               0.0      0.000000    0.000000  \n",
       "max       4.000000               0.0  67990.000000   40.000000  "
      ]
     },
     "execution_count": 70,
     "metadata": {},
     "output_type": "execute_result"
    }
   ],
   "source": [
    "hod.describe()"
   ]
  },
  {
   "cell_type": "code",
   "execution_count": 68,
   "metadata": {},
   "outputs": [
    {
     "data": {
      "text/html": [
       "<div>\n",
       "<style scoped>\n",
       "    .dataframe tbody tr th:only-of-type {\n",
       "        vertical-align: middle;\n",
       "    }\n",
       "\n",
       "    .dataframe tbody tr th {\n",
       "        vertical-align: top;\n",
       "    }\n",
       "\n",
       "    .dataframe thead th {\n",
       "        text-align: right;\n",
       "    }\n",
       "</style>\n",
       "<table border=\"1\" class=\"dataframe\">\n",
       "  <thead>\n",
       "    <tr style=\"text-align: right;\">\n",
       "      <th></th>\n",
       "      <th>campaign</th>\n",
       "      <th>campaigntype</th>\n",
       "      <th>campaignsubtype</th>\n",
       "      <th>device</th>\n",
       "      <th>currency</th>\n",
       "      <th>avgcpc</th>\n",
       "      <th>cost</th>\n",
       "    </tr>\n",
       "  </thead>\n",
       "  <tbody>\n",
       "    <tr>\n",
       "      <th>count</th>\n",
       "      <td>275</td>\n",
       "      <td>275</td>\n",
       "      <td>275</td>\n",
       "      <td>275</td>\n",
       "      <td>275</td>\n",
       "      <td>275</td>\n",
       "      <td>275</td>\n",
       "    </tr>\n",
       "    <tr>\n",
       "      <th>unique</th>\n",
       "      <td>4</td>\n",
       "      <td>1</td>\n",
       "      <td>1</td>\n",
       "      <td>3</td>\n",
       "      <td>1</td>\n",
       "      <td>107</td>\n",
       "      <td>107</td>\n",
       "    </tr>\n",
       "    <tr>\n",
       "      <th>top</th>\n",
       "      <td>rumahSubsidi // griyaBukitIntan</td>\n",
       "      <td>Search</td>\n",
       "      <td>All features</td>\n",
       "      <td>Mobile</td>\n",
       "      <td>IDR</td>\n",
       "      <td>00.00</td>\n",
       "      <td>00.00</td>\n",
       "    </tr>\n",
       "    <tr>\n",
       "      <th>freq</th>\n",
       "      <td>72</td>\n",
       "      <td>275</td>\n",
       "      <td>275</td>\n",
       "      <td>96</td>\n",
       "      <td>275</td>\n",
       "      <td>168</td>\n",
       "      <td>168</td>\n",
       "    </tr>\n",
       "  </tbody>\n",
       "</table>\n",
       "</div>"
      ],
      "text/plain": [
       "                               campaign campaigntype campaignsubtype  device  \\\n",
       "count                               275          275             275     275   \n",
       "unique                                4            1               1       3   \n",
       "top     rumahSubsidi // griyaBukitIntan       Search    All features  Mobile   \n",
       "freq                                 72          275             275      96   \n",
       "\n",
       "       currency avgcpc   cost  \n",
       "count       275    275    275  \n",
       "unique        1    107    107  \n",
       "top         IDR  00.00  00.00  \n",
       "freq        275    168    168  "
      ]
     },
     "execution_count": 68,
     "metadata": {},
     "output_type": "execute_result"
    }
   ],
   "source": [
    "hod.describe(include='object')"
   ]
  },
  {
   "cell_type": "code",
   "execution_count": 66,
   "metadata": {},
   "outputs": [],
   "source": [
    "hod['impressions'] = hod.impressions.str.replace(',','').astype('int')\n",
    "hod['conversions'] = hod.conversions.str.replace(',','.').astype('float')\n",
    "hod['cost/conv'] = hod['cost/conv'].str.replace(',','').astype('float')\n",
    "hod['convrate'] = hod.convrate.str.replace('%','').astype('float')\n",
    "hod['ctr'] = hod.ctr.str.replace('%','').astype('float')\n",
    "hod['impr(top)%'] = hod['impr(top)%'].str.replace('%','').astype('float')"
   ]
  },
  {
   "cell_type": "code",
   "execution_count": 83,
   "metadata": {},
   "outputs": [
    {
     "data": {
      "text/plain": [
       "array(['00.00', '10271.00', '10384.00', '10433.19', '10609.57', '1165.30',\n",
       "       '11723.59', '1178.72', '12060.00', '1276.00', '1298.00', '1353.10',\n",
       "       '1580.05', '15828.00', '15884.00', '16580.91', '1659.00',\n",
       "       '16740.00', '17448.65', '1787.00', '17882.25', '1797.00',\n",
       "       '18867.78', '1911.00', '1925.00', '1930.00', '1956.31', '1991.00',\n",
       "       '2000.00', '2008.48', '20271.44', '20602.91', '20795.91',\n",
       "       '20864.17', '21001.88', '21191.26', '21913.00', '22345.69',\n",
       "       '2250.00', '23849.00', '2441.53', '25282.00', '2545.87',\n",
       "       '25528.00', '26125.16', '2619.41', '26581.00', '2690.03',\n",
       "       '27111.00', '27461.00', '2803.46', '28910.00', '2929.92',\n",
       "       '2979.00', '31142.69', '3244.12', '33871.00', '3426.00',\n",
       "       '34279.00', '3450.00', '3691.00', '3725.00', '3733.11', '39246.00',\n",
       "       '4010.29', '4017.69', '40709.00', '4186.00', '43088.00', '4386.00',\n",
       "       '4514.38', '4674.00', '468.86', '48854.00', '5049.00', '5084.19',\n",
       "       '5116.89', '5179.00', '5436.39', '55191.00', '5685.34', '57775.00',\n",
       "       '5854.00', '6315.84', '6333.10', '63620.00', '6381.98', '64740.00',\n",
       "       '6543.00', '6693.00', '67990.00', '6859.00', '736.57.00',\n",
       "       '7404.00', '749.62', '7700.00', '7853.19', '8081.00', '831.00.00',\n",
       "       '83977.00', '8523.77', '890.00.00', '8919.64', '897.61', '9149.82',\n",
       "       '940.40.00', '9546.69'], dtype='<U9')"
      ]
     },
     "execution_count": 83,
     "metadata": {},
     "output_type": "execute_result"
    }
   ],
   "source": [
    "import numpy as np\n",
    "\n",
    "cost_arr = list(hod['cost'].unique())\n",
    "avgcpc_arr = list(hod['avgcpc'].unique())\n",
    "np.sort(cost_arr)"
   ]
  },
  {
   "cell_type": "code",
   "execution_count": 88,
   "metadata": {},
   "outputs": [
    {
     "data": {
      "text/plain": [
       "4"
      ]
     },
     "execution_count": 88,
     "metadata": {},
     "output_type": "execute_result"
    }
   ],
   "source": [
    "more_than_9 = [i for i in hod['cost'] if len(i)>8 ]\n",
    "len(more_than_9)"
   ]
  },
  {
   "cell_type": "code",
   "execution_count": 87,
   "metadata": {},
   "outputs": [
    {
     "data": {
      "text/plain": [
       "20"
      ]
     },
     "execution_count": 87,
     "metadata": {},
     "output_type": "execute_result"
    }
   ],
   "source": [
    "more_than_9avg = [i for i in hod['avgcpc'] if len(i)>8 ]\n",
    "len(more_than_9avg)"
   ]
  },
  {
   "cell_type": "code",
   "execution_count": 111,
   "metadata": {},
   "outputs": [
    {
     "data": {
      "text/html": [
       "<div>\n",
       "<style scoped>\n",
       "    .dataframe tbody tr th:only-of-type {\n",
       "        vertical-align: middle;\n",
       "    }\n",
       "\n",
       "    .dataframe tbody tr th {\n",
       "        vertical-align: top;\n",
       "    }\n",
       "\n",
       "    .dataframe thead th {\n",
       "        text-align: right;\n",
       "    }\n",
       "</style>\n",
       "<table border=\"1\" class=\"dataframe\">\n",
       "  <thead>\n",
       "    <tr style=\"text-align: right;\">\n",
       "      <th></th>\n",
       "      <th>campaign</th>\n",
       "      <th>campaigntype</th>\n",
       "      <th>campaignsubtype</th>\n",
       "      <th>device</th>\n",
       "      <th>currency</th>\n",
       "      <th>avgcpc</th>\n",
       "      <th>cost</th>\n",
       "    </tr>\n",
       "  </thead>\n",
       "  <tbody>\n",
       "    <tr>\n",
       "      <th>count</th>\n",
       "      <td>255</td>\n",
       "      <td>255</td>\n",
       "      <td>255</td>\n",
       "      <td>255</td>\n",
       "      <td>255</td>\n",
       "      <td>255</td>\n",
       "      <td>255</td>\n",
       "    </tr>\n",
       "    <tr>\n",
       "      <th>unique</th>\n",
       "      <td>4</td>\n",
       "      <td>1</td>\n",
       "      <td>1</td>\n",
       "      <td>3</td>\n",
       "      <td>1</td>\n",
       "      <td>87</td>\n",
       "      <td>87</td>\n",
       "    </tr>\n",
       "    <tr>\n",
       "      <th>top</th>\n",
       "      <td>Campaign #1</td>\n",
       "      <td>Search</td>\n",
       "      <td>All features</td>\n",
       "      <td>Desktop</td>\n",
       "      <td>IDR</td>\n",
       "      <td>00.00</td>\n",
       "      <td>00.00</td>\n",
       "    </tr>\n",
       "    <tr>\n",
       "      <th>freq</th>\n",
       "      <td>71</td>\n",
       "      <td>255</td>\n",
       "      <td>255</td>\n",
       "      <td>87</td>\n",
       "      <td>255</td>\n",
       "      <td>168</td>\n",
       "      <td>168</td>\n",
       "    </tr>\n",
       "  </tbody>\n",
       "</table>\n",
       "</div>"
      ],
      "text/plain": [
       "           campaign campaigntype campaignsubtype   device currency avgcpc  \\\n",
       "count           255          255             255      255      255    255   \n",
       "unique            4            1               1        3        1     87   \n",
       "top     Campaign #1       Search    All features  Desktop      IDR  00.00   \n",
       "freq             71          255             255       87      255    168   \n",
       "\n",
       "         cost  \n",
       "count     255  \n",
       "unique     87  \n",
       "top     00.00  \n",
       "freq      168  "
      ]
     },
     "execution_count": 111,
     "metadata": {},
     "output_type": "execute_result"
    }
   ],
   "source": [
    "hod.describe(include='object')"
   ]
  },
  {
   "cell_type": "code",
   "execution_count": 91,
   "metadata": {},
   "outputs": [
    {
     "name": "stdout",
     "output_type": "stream",
     "text": [
      "<class 'pandas.core.frame.DataFrame'>\n",
      "RangeIndex: 275 entries, 0 to 274\n",
      "Data columns (total 16 columns):\n",
      " #   Column            Non-Null Count  Dtype  \n",
      "---  ------            --------------  -----  \n",
      " 0   campaign          275 non-null    object \n",
      " 1   hourofday         275 non-null    int64  \n",
      " 2   campaigntype      275 non-null    object \n",
      " 3   campaignsubtype   275 non-null    object \n",
      " 4   device            275 non-null    object \n",
      " 5   currency          275 non-null    object \n",
      " 6   impr(top)%        275 non-null    float64\n",
      " 7   clicks            275 non-null    int64  \n",
      " 8   impressions       275 non-null    int64  \n",
      " 9   ctr               275 non-null    float64\n",
      " 10  avgcpc            275 non-null    object \n",
      " 11  cost              275 non-null    object \n",
      " 12  conversions       275 non-null    float64\n",
      " 13  view-throughconv  275 non-null    int64  \n",
      " 14  cost/conv         275 non-null    float64\n",
      " 15  convrate          275 non-null    float64\n",
      "dtypes: float64(5), int64(4), object(7)\n",
      "memory usage: 34.5+ KB\n"
     ]
    }
   ],
   "source": [
    "hod.info()"
   ]
  },
  {
   "cell_type": "code",
   "execution_count": 109,
   "metadata": {},
   "outputs": [
    {
     "data": {
      "text/html": [
       "<div>\n",
       "<style scoped>\n",
       "    .dataframe tbody tr th:only-of-type {\n",
       "        vertical-align: middle;\n",
       "    }\n",
       "\n",
       "    .dataframe tbody tr th {\n",
       "        vertical-align: top;\n",
       "    }\n",
       "\n",
       "    .dataframe thead th {\n",
       "        text-align: right;\n",
       "    }\n",
       "</style>\n",
       "<table border=\"1\" class=\"dataframe\">\n",
       "  <thead>\n",
       "    <tr style=\"text-align: right;\">\n",
       "      <th></th>\n",
       "      <th>campaign</th>\n",
       "      <th>hourofday</th>\n",
       "      <th>campaigntype</th>\n",
       "      <th>campaignsubtype</th>\n",
       "      <th>device</th>\n",
       "      <th>currency</th>\n",
       "      <th>impr(top)%</th>\n",
       "      <th>clicks</th>\n",
       "      <th>impressions</th>\n",
       "      <th>ctr</th>\n",
       "      <th>avgcpc</th>\n",
       "      <th>cost</th>\n",
       "      <th>conversions</th>\n",
       "      <th>view-throughconv</th>\n",
       "      <th>cost/conv</th>\n",
       "      <th>convrate</th>\n",
       "    </tr>\n",
       "  </thead>\n",
       "  <tbody>\n",
       "    <tr>\n",
       "      <th>0</th>\n",
       "      <td>rumahSubsidi // griyaBukitIntan</td>\n",
       "      <td>1</td>\n",
       "      <td>Search</td>\n",
       "      <td>All features</td>\n",
       "      <td>Desktop</td>\n",
       "      <td>IDR</td>\n",
       "      <td>0.0</td>\n",
       "      <td>0</td>\n",
       "      <td>37</td>\n",
       "      <td>0.00</td>\n",
       "      <td>00.00</td>\n",
       "      <td>00.00</td>\n",
       "      <td>0.0</td>\n",
       "      <td>0</td>\n",
       "      <td>0.00</td>\n",
       "      <td>0.0</td>\n",
       "    </tr>\n",
       "    <tr>\n",
       "      <th>1</th>\n",
       "      <td>rumahSubsidi // griyaBukitIntan</td>\n",
       "      <td>16</td>\n",
       "      <td>Search</td>\n",
       "      <td>All features</td>\n",
       "      <td>Mobile</td>\n",
       "      <td>IDR</td>\n",
       "      <td>100.0</td>\n",
       "      <td>29</td>\n",
       "      <td>2831</td>\n",
       "      <td>1.02</td>\n",
       "      <td>1,073.89</td>\n",
       "      <td>31142.69</td>\n",
       "      <td>2.0</td>\n",
       "      <td>0</td>\n",
       "      <td>15571.35</td>\n",
       "      <td>6.9</td>\n",
       "    </tr>\n",
       "    <tr>\n",
       "      <th>2</th>\n",
       "      <td>rumahSubsidi // griyaBukitIntan</td>\n",
       "      <td>20</td>\n",
       "      <td>Search</td>\n",
       "      <td>All features</td>\n",
       "      <td>Desktop</td>\n",
       "      <td>IDR</td>\n",
       "      <td>0.0</td>\n",
       "      <td>0</td>\n",
       "      <td>217</td>\n",
       "      <td>0.00</td>\n",
       "      <td>00.00</td>\n",
       "      <td>00.00</td>\n",
       "      <td>0.0</td>\n",
       "      <td>0</td>\n",
       "      <td>0.00</td>\n",
       "      <td>0.0</td>\n",
       "    </tr>\n",
       "    <tr>\n",
       "      <th>3</th>\n",
       "      <td>rumahSubsidi // griyaBukitIntan</td>\n",
       "      <td>15</td>\n",
       "      <td>Search</td>\n",
       "      <td>All features</td>\n",
       "      <td>Desktop</td>\n",
       "      <td>IDR</td>\n",
       "      <td>60.0</td>\n",
       "      <td>0</td>\n",
       "      <td>534</td>\n",
       "      <td>0.00</td>\n",
       "      <td>00.00</td>\n",
       "      <td>00.00</td>\n",
       "      <td>0.0</td>\n",
       "      <td>0</td>\n",
       "      <td>0.00</td>\n",
       "      <td>0.0</td>\n",
       "    </tr>\n",
       "    <tr>\n",
       "      <th>4</th>\n",
       "      <td>rumahSubsidi // griyaBukitIntan</td>\n",
       "      <td>8</td>\n",
       "      <td>Search</td>\n",
       "      <td>All features</td>\n",
       "      <td>Mobile</td>\n",
       "      <td>IDR</td>\n",
       "      <td>100.0</td>\n",
       "      <td>9</td>\n",
       "      <td>1473</td>\n",
       "      <td>0.61</td>\n",
       "      <td>1,016.65</td>\n",
       "      <td>9149.82</td>\n",
       "      <td>0.0</td>\n",
       "      <td>0</td>\n",
       "      <td>0.00</td>\n",
       "      <td>0.0</td>\n",
       "    </tr>\n",
       "    <tr>\n",
       "      <th>...</th>\n",
       "      <td>...</td>\n",
       "      <td>...</td>\n",
       "      <td>...</td>\n",
       "      <td>...</td>\n",
       "      <td>...</td>\n",
       "      <td>...</td>\n",
       "      <td>...</td>\n",
       "      <td>...</td>\n",
       "      <td>...</td>\n",
       "      <td>...</td>\n",
       "      <td>...</td>\n",
       "      <td>...</td>\n",
       "      <td>...</td>\n",
       "      <td>...</td>\n",
       "      <td>...</td>\n",
       "      <td>...</td>\n",
       "    </tr>\n",
       "    <tr>\n",
       "      <th>270</th>\n",
       "      <td>CPA Leads Experiment</td>\n",
       "      <td>19</td>\n",
       "      <td>Search</td>\n",
       "      <td>All features</td>\n",
       "      <td>Tablet</td>\n",
       "      <td>IDR</td>\n",
       "      <td>0.0</td>\n",
       "      <td>0</td>\n",
       "      <td>20</td>\n",
       "      <td>0.00</td>\n",
       "      <td>00.00</td>\n",
       "      <td>00.00</td>\n",
       "      <td>0.0</td>\n",
       "      <td>0</td>\n",
       "      <td>0.00</td>\n",
       "      <td>0.0</td>\n",
       "    </tr>\n",
       "    <tr>\n",
       "      <th>271</th>\n",
       "      <td>CPA Leads Experiment</td>\n",
       "      <td>15</td>\n",
       "      <td>Search</td>\n",
       "      <td>All features</td>\n",
       "      <td>Desktop</td>\n",
       "      <td>IDR</td>\n",
       "      <td>50.0</td>\n",
       "      <td>4</td>\n",
       "      <td>390</td>\n",
       "      <td>1.03</td>\n",
       "      <td>1,578.96</td>\n",
       "      <td>6315.84</td>\n",
       "      <td>0.0</td>\n",
       "      <td>0</td>\n",
       "      <td>0.00</td>\n",
       "      <td>0.0</td>\n",
       "    </tr>\n",
       "    <tr>\n",
       "      <th>272</th>\n",
       "      <td>CPA Leads Experiment</td>\n",
       "      <td>5</td>\n",
       "      <td>Search</td>\n",
       "      <td>All features</td>\n",
       "      <td>Desktop</td>\n",
       "      <td>IDR</td>\n",
       "      <td>100.0</td>\n",
       "      <td>0</td>\n",
       "      <td>17</td>\n",
       "      <td>0.00</td>\n",
       "      <td>00.00</td>\n",
       "      <td>00.00</td>\n",
       "      <td>0.0</td>\n",
       "      <td>0</td>\n",
       "      <td>0.00</td>\n",
       "      <td>0.0</td>\n",
       "    </tr>\n",
       "    <tr>\n",
       "      <th>273</th>\n",
       "      <td>Promo // Griya Bukit Intan // 4 Juta</td>\n",
       "      <td>15</td>\n",
       "      <td>Search</td>\n",
       "      <td>All features</td>\n",
       "      <td>Desktop</td>\n",
       "      <td>IDR</td>\n",
       "      <td>100.0</td>\n",
       "      <td>3</td>\n",
       "      <td>11</td>\n",
       "      <td>27.27</td>\n",
       "      <td>4,020.00</td>\n",
       "      <td>12060.00</td>\n",
       "      <td>0.0</td>\n",
       "      <td>0</td>\n",
       "      <td>0.00</td>\n",
       "      <td>0.0</td>\n",
       "    </tr>\n",
       "    <tr>\n",
       "      <th>274</th>\n",
       "      <td>Promo // Griya Bukit Intan // 4 Juta</td>\n",
       "      <td>3</td>\n",
       "      <td>Search</td>\n",
       "      <td>All features</td>\n",
       "      <td>Tablet</td>\n",
       "      <td>IDR</td>\n",
       "      <td>100.0</td>\n",
       "      <td>0</td>\n",
       "      <td>2</td>\n",
       "      <td>0.00</td>\n",
       "      <td>00.00</td>\n",
       "      <td>00.00</td>\n",
       "      <td>0.0</td>\n",
       "      <td>0</td>\n",
       "      <td>0.00</td>\n",
       "      <td>0.0</td>\n",
       "    </tr>\n",
       "  </tbody>\n",
       "</table>\n",
       "<p>255 rows × 16 columns</p>\n",
       "</div>"
      ],
      "text/plain": [
       "                                 campaign  hourofday campaigntype  \\\n",
       "0         rumahSubsidi // griyaBukitIntan          1       Search   \n",
       "1         rumahSubsidi // griyaBukitIntan         16       Search   \n",
       "2         rumahSubsidi // griyaBukitIntan         20       Search   \n",
       "3         rumahSubsidi // griyaBukitIntan         15       Search   \n",
       "4         rumahSubsidi // griyaBukitIntan          8       Search   \n",
       "..                                    ...        ...          ...   \n",
       "270                  CPA Leads Experiment         19       Search   \n",
       "271                  CPA Leads Experiment         15       Search   \n",
       "272                  CPA Leads Experiment          5       Search   \n",
       "273  Promo // Griya Bukit Intan // 4 Juta         15       Search   \n",
       "274  Promo // Griya Bukit Intan // 4 Juta          3       Search   \n",
       "\n",
       "    campaignsubtype   device currency  impr(top)%  clicks  impressions    ctr  \\\n",
       "0      All features  Desktop      IDR         0.0       0           37   0.00   \n",
       "1      All features   Mobile      IDR       100.0      29         2831   1.02   \n",
       "2      All features  Desktop      IDR         0.0       0          217   0.00   \n",
       "3      All features  Desktop      IDR        60.0       0          534   0.00   \n",
       "4      All features   Mobile      IDR       100.0       9         1473   0.61   \n",
       "..              ...      ...      ...         ...     ...          ...    ...   \n",
       "270    All features   Tablet      IDR         0.0       0           20   0.00   \n",
       "271    All features  Desktop      IDR        50.0       4          390   1.03   \n",
       "272    All features  Desktop      IDR       100.0       0           17   0.00   \n",
       "273    All features  Desktop      IDR       100.0       3           11  27.27   \n",
       "274    All features   Tablet      IDR       100.0       0            2   0.00   \n",
       "\n",
       "       avgcpc      cost  conversions  view-throughconv  cost/conv  convrate  \n",
       "0       00.00     00.00          0.0                 0       0.00       0.0  \n",
       "1    1,073.89  31142.69          2.0                 0   15571.35       6.9  \n",
       "2       00.00     00.00          0.0                 0       0.00       0.0  \n",
       "3       00.00     00.00          0.0                 0       0.00       0.0  \n",
       "4    1,016.65   9149.82          0.0                 0       0.00       0.0  \n",
       "..        ...       ...          ...               ...        ...       ...  \n",
       "270     00.00     00.00          0.0                 0       0.00       0.0  \n",
       "271  1,578.96   6315.84          0.0                 0       0.00       0.0  \n",
       "272     00.00     00.00          0.0                 0       0.00       0.0  \n",
       "273  4,020.00  12060.00          0.0                 0       0.00       0.0  \n",
       "274     00.00     00.00          0.0                 0       0.00       0.0  \n",
       "\n",
       "[255 rows x 16 columns]"
      ]
     },
     "execution_count": 109,
     "metadata": {},
     "output_type": "execute_result"
    }
   ],
   "source": [
    "hod.drop(hod[hod['avgcpc'].map(len) > 8].index, inplace=True)\n",
    "hod.drop(hod[hod['cost'].map(len) > 8].index, inplace=True)\n",
    "hod"
   ]
  },
  {
   "cell_type": "code",
   "execution_count": null,
   "metadata": {},
   "outputs": [],
   "source": [
    "hod['avgcpc'] = hod['avgcpc'].str.replace(',','').astype('float')\n",
    "hod['cost'] = hod['cost'].str.replace(',','').astype('float')"
   ]
  },
  {
   "cell_type": "code",
   "execution_count": 172,
   "metadata": {},
   "outputs": [
    {
     "data": {
      "text/plain": [
       "array(['IDR'], dtype=object)"
      ]
     },
     "execution_count": 172,
     "metadata": {},
     "output_type": "execute_result"
    }
   ],
   "source": [
    "# to be deleted : hod['currency','campaignsubtype','campaigntype']"
   ]
  },
  {
   "cell_type": "code",
   "execution_count": 131,
   "metadata": {},
   "outputs": [
    {
     "data": {
      "text/html": [
       "<div>\n",
       "<style scoped>\n",
       "    .dataframe tbody tr th:only-of-type {\n",
       "        vertical-align: middle;\n",
       "    }\n",
       "\n",
       "    .dataframe tbody tr th {\n",
       "        vertical-align: top;\n",
       "    }\n",
       "\n",
       "    .dataframe thead th {\n",
       "        text-align: right;\n",
       "    }\n",
       "</style>\n",
       "<table border=\"1\" class=\"dataframe\">\n",
       "  <thead>\n",
       "    <tr style=\"text-align: right;\">\n",
       "      <th></th>\n",
       "      <th>hourofday</th>\n",
       "      <th>impr(top)%</th>\n",
       "      <th>clicks</th>\n",
       "      <th>impressions</th>\n",
       "      <th>ctr</th>\n",
       "      <th>avgcpc</th>\n",
       "      <th>cost</th>\n",
       "      <th>conversions</th>\n",
       "      <th>view-throughconv</th>\n",
       "      <th>cost/conv</th>\n",
       "      <th>convrate</th>\n",
       "    </tr>\n",
       "  </thead>\n",
       "  <tbody>\n",
       "    <tr>\n",
       "      <th>count</th>\n",
       "      <td>255.000000</td>\n",
       "      <td>255.000000</td>\n",
       "      <td>255.000000</td>\n",
       "      <td>255.000000</td>\n",
       "      <td>255.000000</td>\n",
       "      <td>255.000000</td>\n",
       "      <td>255.000000</td>\n",
       "      <td>255.000000</td>\n",
       "      <td>255.0</td>\n",
       "      <td>255.000000</td>\n",
       "      <td>255.000000</td>\n",
       "    </tr>\n",
       "    <tr>\n",
       "      <th>mean</th>\n",
       "      <td>11.325490</td>\n",
       "      <td>36.254471</td>\n",
       "      <td>2.725490</td>\n",
       "      <td>175.627451</td>\n",
       "      <td>3.083216</td>\n",
       "      <td>686.558078</td>\n",
       "      <td>5058.508039</td>\n",
       "      <td>0.180425</td>\n",
       "      <td>0.0</td>\n",
       "      <td>2665.254824</td>\n",
       "      <td>1.664706</td>\n",
       "    </tr>\n",
       "    <tr>\n",
       "      <th>std</th>\n",
       "      <td>6.997746</td>\n",
       "      <td>44.638797</td>\n",
       "      <td>6.075893</td>\n",
       "      <td>569.191454</td>\n",
       "      <td>8.817580</td>\n",
       "      <td>1251.121023</td>\n",
       "      <td>12522.273115</td>\n",
       "      <td>0.599546</td>\n",
       "      <td>0.0</td>\n",
       "      <td>9960.387206</td>\n",
       "      <td>5.661071</td>\n",
       "    </tr>\n",
       "    <tr>\n",
       "      <th>min</th>\n",
       "      <td>0.000000</td>\n",
       "      <td>0.000000</td>\n",
       "      <td>0.000000</td>\n",
       "      <td>0.000000</td>\n",
       "      <td>0.000000</td>\n",
       "      <td>0.000000</td>\n",
       "      <td>0.000000</td>\n",
       "      <td>0.000000</td>\n",
       "      <td>0.0</td>\n",
       "      <td>0.000000</td>\n",
       "      <td>0.000000</td>\n",
       "    </tr>\n",
       "    <tr>\n",
       "      <th>25%</th>\n",
       "      <td>5.000000</td>\n",
       "      <td>0.000000</td>\n",
       "      <td>0.000000</td>\n",
       "      <td>0.000000</td>\n",
       "      <td>0.000000</td>\n",
       "      <td>0.000000</td>\n",
       "      <td>0.000000</td>\n",
       "      <td>0.000000</td>\n",
       "      <td>0.0</td>\n",
       "      <td>0.000000</td>\n",
       "      <td>0.000000</td>\n",
       "    </tr>\n",
       "    <tr>\n",
       "      <th>50%</th>\n",
       "      <td>11.000000</td>\n",
       "      <td>0.000000</td>\n",
       "      <td>0.000000</td>\n",
       "      <td>9.000000</td>\n",
       "      <td>0.000000</td>\n",
       "      <td>0.000000</td>\n",
       "      <td>0.000000</td>\n",
       "      <td>0.000000</td>\n",
       "      <td>0.0</td>\n",
       "      <td>0.000000</td>\n",
       "      <td>0.000000</td>\n",
       "    </tr>\n",
       "    <tr>\n",
       "      <th>75%</th>\n",
       "      <td>17.000000</td>\n",
       "      <td>91.460000</td>\n",
       "      <td>2.000000</td>\n",
       "      <td>105.000000</td>\n",
       "      <td>1.000000</td>\n",
       "      <td>1207.060000</td>\n",
       "      <td>3202.500000</td>\n",
       "      <td>0.000000</td>\n",
       "      <td>0.0</td>\n",
       "      <td>0.000000</td>\n",
       "      <td>0.000000</td>\n",
       "    </tr>\n",
       "    <tr>\n",
       "      <th>max</th>\n",
       "      <td>23.000000</td>\n",
       "      <td>100.000000</td>\n",
       "      <td>29.000000</td>\n",
       "      <td>4369.000000</td>\n",
       "      <td>100.000000</td>\n",
       "      <td>8569.750000</td>\n",
       "      <td>83977.000000</td>\n",
       "      <td>4.000000</td>\n",
       "      <td>0.0</td>\n",
       "      <td>67990.000000</td>\n",
       "      <td>40.000000</td>\n",
       "    </tr>\n",
       "  </tbody>\n",
       "</table>\n",
       "</div>"
      ],
      "text/plain": [
       "        hourofday  impr(top)%      clicks  impressions         ctr  \\\n",
       "count  255.000000  255.000000  255.000000   255.000000  255.000000   \n",
       "mean    11.325490   36.254471    2.725490   175.627451    3.083216   \n",
       "std      6.997746   44.638797    6.075893   569.191454    8.817580   \n",
       "min      0.000000    0.000000    0.000000     0.000000    0.000000   \n",
       "25%      5.000000    0.000000    0.000000     0.000000    0.000000   \n",
       "50%     11.000000    0.000000    0.000000     9.000000    0.000000   \n",
       "75%     17.000000   91.460000    2.000000   105.000000    1.000000   \n",
       "max     23.000000  100.000000   29.000000  4369.000000  100.000000   \n",
       "\n",
       "            avgcpc          cost  conversions  view-throughconv     cost/conv  \\\n",
       "count   255.000000    255.000000   255.000000             255.0    255.000000   \n",
       "mean    686.558078   5058.508039     0.180425               0.0   2665.254824   \n",
       "std    1251.121023  12522.273115     0.599546               0.0   9960.387206   \n",
       "min       0.000000      0.000000     0.000000               0.0      0.000000   \n",
       "25%       0.000000      0.000000     0.000000               0.0      0.000000   \n",
       "50%       0.000000      0.000000     0.000000               0.0      0.000000   \n",
       "75%    1207.060000   3202.500000     0.000000               0.0      0.000000   \n",
       "max    8569.750000  83977.000000     4.000000               0.0  67990.000000   \n",
       "\n",
       "         convrate  \n",
       "count  255.000000  \n",
       "mean     1.664706  \n",
       "std      5.661071  \n",
       "min      0.000000  \n",
       "25%      0.000000  \n",
       "50%      0.000000  \n",
       "75%      0.000000  \n",
       "max     40.000000  "
      ]
     },
     "execution_count": 131,
     "metadata": {},
     "output_type": "execute_result"
    }
   ],
   "source": [
    "hod.describe()"
   ]
  },
  {
   "cell_type": "code",
   "execution_count": 516,
   "metadata": {},
   "outputs": [
    {
     "data": {
      "text/plain": [
       "<matplotlib.legend.Legend at 0x7fe0cfbc2950>"
      ]
     },
     "execution_count": 516,
     "metadata": {},
     "output_type": "execute_result"
    },
    {
     "data": {
      "image/png": "[encoded data removed]",
      "text/plain": [
       "<Figure size 432x288 with 1 Axes>"
      ]
     },
     "metadata": {
      "needs_background": "light"
     },
     "output_type": "display_data"
    }
   ],
   "source": [
    "hod.groupby(['device'])['impressions'].sum().plot(kind='barh', ylabel='impressions')\n",
    "sns.set_context(context='notebook')\n",
    "plt.legend()"
   ]
  },
  {
   "cell_type": "code",
   "execution_count": 517,
   "metadata": {},
   "outputs": [
    {
     "data": {
      "text/plain": [
       "<matplotlib.legend.Legend at 0x7fe0d40f5850>"
      ]
     },
     "execution_count": 517,
     "metadata": {},
     "output_type": "execute_result"
    },
    {
     "data": {
      "image/png": "[encoded data removed]",
      "text/plain": [
       "<Figure size 432x288 with 1 Axes>"
      ]
     },
     "metadata": {
      "needs_background": "light"
     },
     "output_type": "display_data"
    }
   ],
   "source": [
    "hod.groupby(['device'])['impr(top)%'].mean().plot(kind='barh', ylabel='impr(top)%')\n",
    "plt.legend()"
   ]
  },
  {
   "cell_type": "code",
   "execution_count": 518,
   "metadata": {},
   "outputs": [
    {
     "data": {
      "text/plain": [
       "<matplotlib.axes._subplots.AxesSubplot at 0x7fe0c9db79d0>"
      ]
     },
     "execution_count": 518,
     "metadata": {},
     "output_type": "execute_result"
    },
    {
     "data": {
      "image/png": "[encoded data removed]",
      "text/plain": [
       "<Figure size 1080x576 with 1 Axes>"
      ]
     },
     "metadata": {
      "needs_background": "light"
     },
     "output_type": "display_data"
    }
   ],
   "source": [
    "plt.figure(figsize=(15,8))\n",
    "result = hod.groupby(['hourofday'])['impr(top)%'].mean().reset_index().sort_values('impr(top)%', ascending = False)\n",
    "result['hourofday'] = result['hourofday'].astype('str')\n",
    "sns.barplot(x='hourofday', y=\"impr(top)%\", data=result, palette='viridis')\n",
    "\n"
   ]
  },
  {
   "cell_type": "code",
   "execution_count": 519,
   "metadata": {},
   "outputs": [
    {
     "data": {
      "text/plain": [
       "<matplotlib.axes._subplots.AxesSubplot at 0x7fe0d0dda550>"
      ]
     },
     "execution_count": 519,
     "metadata": {},
     "output_type": "execute_result"
    },
    {
     "data": {
      "image/png": "[encoded data removed]",
      "text/plain": [
       "<Figure size 1080x576 with 1 Axes>"
      ]
     },
     "metadata": {
      "needs_background": "light"
     },
     "output_type": "display_data"
    }
   ],
   "source": [
    "plt.figure(figsize=(15,8))\n",
    "result2 = hod.groupby(['hourofday'])['impressions'].mean().reset_index().sort_values('impressions', ascending = False)\n",
    "result2['hourofday'] = result['hourofday'].astype('str')\n",
    "sns.barplot(x='hourofday', y=\"impressions\", data=result2, palette='viridis')"
   ]
  },
  {
   "cell_type": "code",
   "execution_count": 310,
   "metadata": {},
   "outputs": [
    {
     "data": {
      "text/plain": [
       "array([ 0.  ,  6.9 , 34.29, 20.  , 13.04, 12.5 , 17.65,  2.78, 18.75,\n",
       "       10.  ,  5.26,  8.7 ,  7.41, 13.33, 25.  , 40.  ,  6.25,  7.14,\n",
       "        8.33,  4.55,  7.78, 15.29, 11.11, 33.33,  5.88, 32.  ])"
      ]
     },
     "execution_count": 310,
     "metadata": {},
     "output_type": "execute_result"
    }
   ],
   "source": []
  },
  {
   "cell_type": "code",
   "execution_count": 157,
   "metadata": {},
   "outputs": [
    {
     "name": "stderr",
     "output_type": "stream",
     "text": [
      "/Users/ndaru/opt/anaconda3/envs/python37/lib/python3.7/site-packages/seaborn/_decorators.py:43: FutureWarning: Pass the following variables as keyword args: x, y. From version 0.12, the only valid positional argument will be `data`, and passing other arguments without an explicit keyword will result in an error or misinterpretation.\n",
      "  FutureWarning\n"
     ]
    },
    {
     "data": {
      "text/plain": [
       "<matplotlib.axes._subplots.AxesSubplot at 0x7fe0e497cd10>"
      ]
     },
     "execution_count": 157,
     "metadata": {},
     "output_type": "execute_result"
    },
    {
     "data": {
      "image/png": "[encoded data removed]",
      "text/plain": [
       "<Figure size 720x576 with 1 Axes>"
      ]
     },
     "metadata": {
      "needs_background": "light"
     },
     "output_type": "display_data"
    }
   ],
   "source": [
    "plt.figure(figsize=(10,8))\n",
    "sns.scatterplot('impressions','cost', data=hod, hue='device')"
   ]
  },
  {
   "cell_type": "code",
   "execution_count": 162,
   "metadata": {},
   "outputs": [
    {
     "name": "stderr",
     "output_type": "stream",
     "text": [
      "/Users/ndaru/opt/anaconda3/envs/python37/lib/python3.7/site-packages/seaborn/_decorators.py:43: FutureWarning: Pass the following variables as keyword args: x, y. From version 0.12, the only valid positional argument will be `data`, and passing other arguments without an explicit keyword will result in an error or misinterpretation.\n",
      "  FutureWarning\n"
     ]
    },
    {
     "data": {
      "text/plain": [
       "<matplotlib.axes._subplots.AxesSubplot at 0x7fe0e38cd4d0>"
      ]
     },
     "execution_count": 162,
     "metadata": {},
     "output_type": "execute_result"
    },
    {
     "data": {
      "image/png": "[encoded data removed]",
      "text/plain": [
       "<Figure size 1440x360 with 1 Axes>"
      ]
     },
     "metadata": {
      "needs_background": "light"
     },
     "output_type": "display_data"
    }
   ],
   "source": [
    "plt.figure(figsize=(20,5))\n",
    "sns.boxplot('conversions','cost', data=hod)"
   ]
  },
  {
   "cell_type": "code",
   "execution_count": 176,
   "metadata": {},
   "outputs": [
    {
     "name": "stderr",
     "output_type": "stream",
     "text": [
      "/Users/ndaru/opt/anaconda3/envs/python37/lib/python3.7/site-packages/seaborn/_decorators.py:43: FutureWarning: Pass the following variables as keyword args: x, y. From version 0.12, the only valid positional argument will be `data`, and passing other arguments without an explicit keyword will result in an error or misinterpretation.\n",
      "  FutureWarning\n",
      "/Users/ndaru/opt/anaconda3/envs/python37/lib/python3.7/site-packages/seaborn/categorical.py:1296: UserWarning: 6.6% of the points cannot be placed; you may want to decrease the size of the markers or use stripplot.\n",
      "  warnings.warn(msg, UserWarning)\n",
      "/Users/ndaru/opt/anaconda3/envs/python37/lib/python3.7/site-packages/seaborn/categorical.py:1296: UserWarning: 56.3% of the points cannot be placed; you may want to decrease the size of the markers or use stripplot.\n",
      "  warnings.warn(msg, UserWarning)\n",
      "/Users/ndaru/opt/anaconda3/envs/python37/lib/python3.7/site-packages/seaborn/categorical.py:1296: UserWarning: 13.8% of the points cannot be placed; you may want to decrease the size of the markers or use stripplot.\n",
      "  warnings.warn(msg, UserWarning)\n"
     ]
    },
    {
     "data": {
      "text/plain": [
       "<matplotlib.axes._subplots.AxesSubplot at 0x7fe0c6996150>"
      ]
     },
     "execution_count": 176,
     "metadata": {},
     "output_type": "execute_result"
    },
    {
     "data": {
      "image/png": "[encoded data removed]",
      "text/plain": [
       "<Figure size 1080x576 with 1 Axes>"
      ]
     },
     "metadata": {
      "needs_background": "light"
     },
     "output_type": "display_data"
    }
   ],
   "source": [
    "plt.figure(figsize=(15,8))\n",
    "sns.swarmplot('campaign','clicks', data=hod,hue='device')"
   ]
  },
  {
   "cell_type": "code",
   "execution_count": 303,
   "metadata": {},
   "outputs": [
    {
     "name": "stderr",
     "output_type": "stream",
     "text": [
      "/Users/ndaru/opt/anaconda3/envs/python37/lib/python3.7/site-packages/seaborn/categorical.py:1296: UserWarning: 56.3% of the points cannot be placed; you may want to decrease the size of the markers or use stripplot.\n",
      "  warnings.warn(msg, UserWarning)\n",
      "/Users/ndaru/opt/anaconda3/envs/python37/lib/python3.7/site-packages/seaborn/categorical.py:1296: UserWarning: 7.7% of the points cannot be placed; you may want to decrease the size of the markers or use stripplot.\n",
      "  warnings.warn(msg, UserWarning)\n",
      "/Users/ndaru/opt/anaconda3/envs/python37/lib/python3.7/site-packages/seaborn/categorical.py:1296: UserWarning: 15.5% of the points cannot be placed; you may want to decrease the size of the markers or use stripplot.\n",
      "  warnings.warn(msg, UserWarning)\n"
     ]
    },
    {
     "data": {
      "text/plain": [
       "<matplotlib.axes._subplots.AxesSubplot at 0x7fe0ced95b50>"
      ]
     },
     "execution_count": 303,
     "metadata": {},
     "output_type": "execute_result"
    },
    {
     "data": {
      "image/png": "[encoded data removed]",
      "text/plain": [
       "<Figure size 1080x576 with 1 Axes>"
      ]
     },
     "metadata": {
      "needs_background": "light"
     },
     "output_type": "display_data"
    }
   ],
   "source": [
    "plt.figure(figsize=(15,8))\n",
    "sns.swarmplot('campaign','impressions', data=hod,hue='device')"
   ]
  },
  {
   "cell_type": "code",
   "execution_count": 304,
   "metadata": {},
   "outputs": [
    {
     "name": "stderr",
     "output_type": "stream",
     "text": [
      "/Users/ndaru/opt/anaconda3/envs/python37/lib/python3.7/site-packages/seaborn/_decorators.py:43: FutureWarning: Pass the following variables as keyword args: x, y. From version 0.12, the only valid positional argument will be `data`, and passing other arguments without an explicit keyword will result in an error or misinterpretation.\n",
      "  FutureWarning\n",
      "/Users/ndaru/opt/anaconda3/envs/python37/lib/python3.7/site-packages/seaborn/categorical.py:1296: UserWarning: 29.5% of the points cannot be placed; you may want to decrease the size of the markers or use stripplot.\n",
      "  warnings.warn(msg, UserWarning)\n",
      "/Users/ndaru/opt/anaconda3/envs/python37/lib/python3.7/site-packages/seaborn/categorical.py:1296: UserWarning: 56.3% of the points cannot be placed; you may want to decrease the size of the markers or use stripplot.\n",
      "  warnings.warn(msg, UserWarning)\n",
      "/Users/ndaru/opt/anaconda3/envs/python37/lib/python3.7/site-packages/seaborn/categorical.py:1296: UserWarning: 52.3% of the points cannot be placed; you may want to decrease the size of the markers or use stripplot.\n",
      "  warnings.warn(msg, UserWarning)\n",
      "/Users/ndaru/opt/anaconda3/envs/python37/lib/python3.7/site-packages/seaborn/categorical.py:1296: UserWarning: 15.5% of the points cannot be placed; you may want to decrease the size of the markers or use stripplot.\n",
      "  warnings.warn(msg, UserWarning)\n"
     ]
    },
    {
     "data": {
      "text/plain": [
       "<matplotlib.axes._subplots.AxesSubplot at 0x7fe0d0491950>"
      ]
     },
     "execution_count": 304,
     "metadata": {},
     "output_type": "execute_result"
    },
    {
     "data": {
      "image/png": "[encoded data removed]",
      "text/plain": [
       "<Figure size 1080x576 with 1 Axes>"
      ]
     },
     "metadata": {
      "needs_background": "light"
     },
     "output_type": "display_data"
    }
   ],
   "source": [
    "plt.figure(figsize=(15,8))\n",
    "sns.swarmplot('campaign','conversions', data=hod,hue='device')"
   ]
  },
  {
   "cell_type": "code",
   "execution_count": 150,
   "metadata": {},
   "outputs": [
    {
     "data": {
      "text/plain": [
       "<matplotlib.legend.Legend at 0x7fe0e4021310>"
      ]
     },
     "execution_count": 150,
     "metadata": {},
     "output_type": "execute_result"
    },
    {
     "data": {
      "image/png": "[encoded data removed]",
      "text/plain": [
       "<Figure size 720x216 with 1 Axes>"
      ]
     },
     "metadata": {
      "needs_background": "light"
     },
     "output_type": "display_data"
    }
   ],
   "source": [
    "plt.figure(figsize=(10,3))\n",
    "hod.groupby(['hourofday'])['impressions'].sum().plot(kind='bar', ylabel='impressions', color='teal')\n",
    "plt.legend()"
   ]
  },
  {
   "cell_type": "code",
   "execution_count": null,
   "metadata": {},
   "outputs": [],
   "source": []
  },
  {
   "cell_type": "code",
   "execution_count": 129,
   "metadata": {},
   "outputs": [
    {
     "data": {
      "text/html": [
       "<div>\n",
       "<style scoped>\n",
       "    .dataframe tbody tr th:only-of-type {\n",
       "        vertical-align: middle;\n",
       "    }\n",
       "\n",
       "    .dataframe tbody tr th {\n",
       "        vertical-align: top;\n",
       "    }\n",
       "\n",
       "    .dataframe thead th {\n",
       "        text-align: right;\n",
       "    }\n",
       "</style>\n",
       "<table border=\"1\" class=\"dataframe\">\n",
       "  <thead>\n",
       "    <tr style=\"text-align: right;\">\n",
       "      <th>hourofday</th>\n",
       "      <th>0</th>\n",
       "      <th>1</th>\n",
       "      <th>2</th>\n",
       "      <th>3</th>\n",
       "      <th>4</th>\n",
       "      <th>5</th>\n",
       "      <th>6</th>\n",
       "      <th>7</th>\n",
       "      <th>8</th>\n",
       "      <th>9</th>\n",
       "      <th>10</th>\n",
       "      <th>11</th>\n",
       "      <th>12</th>\n",
       "      <th>13</th>\n",
       "      <th>14</th>\n",
       "      <th>15</th>\n",
       "      <th>16</th>\n",
       "      <th>17</th>\n",
       "      <th>18</th>\n",
       "      <th>19</th>\n",
       "      <th>20</th>\n",
       "      <th>21</th>\n",
       "      <th>22</th>\n",
       "      <th>23</th>\n",
       "      <th>Total</th>\n",
       "    </tr>\n",
       "    <tr>\n",
       "      <th>device</th>\n",
       "      <th></th>\n",
       "      <th></th>\n",
       "      <th></th>\n",
       "      <th></th>\n",
       "      <th></th>\n",
       "      <th></th>\n",
       "      <th></th>\n",
       "      <th></th>\n",
       "      <th></th>\n",
       "      <th></th>\n",
       "      <th></th>\n",
       "      <th></th>\n",
       "      <th></th>\n",
       "      <th></th>\n",
       "      <th></th>\n",
       "      <th></th>\n",
       "      <th></th>\n",
       "      <th></th>\n",
       "      <th></th>\n",
       "      <th></th>\n",
       "      <th></th>\n",
       "      <th></th>\n",
       "      <th></th>\n",
       "      <th></th>\n",
       "      <th></th>\n",
       "    </tr>\n",
       "  </thead>\n",
       "  <tbody>\n",
       "    <tr>\n",
       "      <th>Desktop</th>\n",
       "      <td>4</td>\n",
       "      <td>4</td>\n",
       "      <td>4</td>\n",
       "      <td>4</td>\n",
       "      <td>3</td>\n",
       "      <td>4</td>\n",
       "      <td>3</td>\n",
       "      <td>4</td>\n",
       "      <td>3</td>\n",
       "      <td>3</td>\n",
       "      <td>4</td>\n",
       "      <td>4</td>\n",
       "      <td>4</td>\n",
       "      <td>4</td>\n",
       "      <td>3</td>\n",
       "      <td>4</td>\n",
       "      <td>2</td>\n",
       "      <td>4</td>\n",
       "      <td>3</td>\n",
       "      <td>4</td>\n",
       "      <td>4</td>\n",
       "      <td>4</td>\n",
       "      <td>3</td>\n",
       "      <td>4</td>\n",
       "      <td>87</td>\n",
       "    </tr>\n",
       "    <tr>\n",
       "      <th>Mobile</th>\n",
       "      <td>4</td>\n",
       "      <td>3</td>\n",
       "      <td>4</td>\n",
       "      <td>3</td>\n",
       "      <td>4</td>\n",
       "      <td>4</td>\n",
       "      <td>4</td>\n",
       "      <td>4</td>\n",
       "      <td>4</td>\n",
       "      <td>4</td>\n",
       "      <td>3</td>\n",
       "      <td>3</td>\n",
       "      <td>4</td>\n",
       "      <td>3</td>\n",
       "      <td>4</td>\n",
       "      <td>3</td>\n",
       "      <td>3</td>\n",
       "      <td>4</td>\n",
       "      <td>2</td>\n",
       "      <td>4</td>\n",
       "      <td>4</td>\n",
       "      <td>4</td>\n",
       "      <td>3</td>\n",
       "      <td>2</td>\n",
       "      <td>84</td>\n",
       "    </tr>\n",
       "    <tr>\n",
       "      <th>Tablet</th>\n",
       "      <td>4</td>\n",
       "      <td>4</td>\n",
       "      <td>3</td>\n",
       "      <td>4</td>\n",
       "      <td>4</td>\n",
       "      <td>3</td>\n",
       "      <td>4</td>\n",
       "      <td>4</td>\n",
       "      <td>3</td>\n",
       "      <td>2</td>\n",
       "      <td>3</td>\n",
       "      <td>3</td>\n",
       "      <td>3</td>\n",
       "      <td>4</td>\n",
       "      <td>3</td>\n",
       "      <td>4</td>\n",
       "      <td>4</td>\n",
       "      <td>3</td>\n",
       "      <td>3</td>\n",
       "      <td>4</td>\n",
       "      <td>4</td>\n",
       "      <td>4</td>\n",
       "      <td>4</td>\n",
       "      <td>3</td>\n",
       "      <td>84</td>\n",
       "    </tr>\n",
       "    <tr>\n",
       "      <th>Total</th>\n",
       "      <td>12</td>\n",
       "      <td>11</td>\n",
       "      <td>11</td>\n",
       "      <td>11</td>\n",
       "      <td>11</td>\n",
       "      <td>11</td>\n",
       "      <td>11</td>\n",
       "      <td>12</td>\n",
       "      <td>10</td>\n",
       "      <td>9</td>\n",
       "      <td>10</td>\n",
       "      <td>10</td>\n",
       "      <td>11</td>\n",
       "      <td>11</td>\n",
       "      <td>10</td>\n",
       "      <td>11</td>\n",
       "      <td>9</td>\n",
       "      <td>11</td>\n",
       "      <td>8</td>\n",
       "      <td>12</td>\n",
       "      <td>12</td>\n",
       "      <td>12</td>\n",
       "      <td>10</td>\n",
       "      <td>9</td>\n",
       "      <td>255</td>\n",
       "    </tr>\n",
       "  </tbody>\n",
       "</table>\n",
       "</div>"
      ],
      "text/plain": [
       "hourofday   0   1   2   3   4   5   6   7   8  9  10  11  12  13  14  15  16  \\\n",
       "device                                                                         \n",
       "Desktop     4   4   4   4   3   4   3   4   3  3   4   4   4   4   3   4   2   \n",
       "Mobile      4   3   4   3   4   4   4   4   4  4   3   3   4   3   4   3   3   \n",
       "Tablet      4   4   3   4   4   3   4   4   3  2   3   3   3   4   3   4   4   \n",
       "Total      12  11  11  11  11  11  11  12  10  9  10  10  11  11  10  11   9   \n",
       "\n",
       "hourofday  17  18  19  20  21  22  23  Total  \n",
       "device                                        \n",
       "Desktop     4   3   4   4   4   3   4     87  \n",
       "Mobile      4   2   4   4   4   3   2     84  \n",
       "Tablet      3   3   4   4   4   4   3     84  \n",
       "Total      11   8  12  12  12  10   9    255  "
      ]
     },
     "execution_count": 129,
     "metadata": {},
     "output_type": "execute_result"
    }
   ],
   "source": [
    "pd.crosstab(hod['device'],hod['hourofday'],margins=True, margins_name=\"Total\")\n",
    " "
   ]
  },
  {
   "cell_type": "code",
   "execution_count": 126,
   "metadata": {},
   "outputs": [
    {
     "data": {
      "text/plain": [
       "<matplotlib.axes._subplots.AxesSubplot at 0x7fe0dee18350>"
      ]
     },
     "execution_count": 126,
     "metadata": {},
     "output_type": "execute_result"
    },
    {
     "data": {
      "image/png": "[encoded data removed]",
      "text/plain": [
       "<Figure size 720x216 with 2 Axes>"
      ]
     },
     "metadata": {
      "needs_background": "light"
     },
     "output_type": "display_data"
    }
   ],
   "source": [
    "plt.figure(figsize=(10,3))\n",
    "sns.heatmap(pd.crosstab(hod['device'],hod['hourofday']), cmap='viridis')"
   ]
  },
  {
   "cell_type": "markdown",
   "metadata": {},
   "source": [
    "> ## Unsupervised (Clustering)"
   ]
  },
  {
   "cell_type": "code",
   "execution_count": 178,
   "metadata": {},
   "outputs": [
    {
     "data": {
      "text/html": [
       "<div>\n",
       "<style scoped>\n",
       "    .dataframe tbody tr th:only-of-type {\n",
       "        vertical-align: middle;\n",
       "    }\n",
       "\n",
       "    .dataframe tbody tr th {\n",
       "        vertical-align: top;\n",
       "    }\n",
       "\n",
       "    .dataframe thead th {\n",
       "        text-align: right;\n",
       "    }\n",
       "</style>\n",
       "<table border=\"1\" class=\"dataframe\">\n",
       "  <thead>\n",
       "    <tr style=\"text-align: right;\">\n",
       "      <th></th>\n",
       "      <th>campaign</th>\n",
       "      <th>hourofday</th>\n",
       "      <th>campaigntype</th>\n",
       "      <th>campaignsubtype</th>\n",
       "      <th>device</th>\n",
       "      <th>currency</th>\n",
       "      <th>impr(top)%</th>\n",
       "      <th>clicks</th>\n",
       "      <th>impressions</th>\n",
       "      <th>ctr</th>\n",
       "      <th>avgcpc</th>\n",
       "      <th>cost</th>\n",
       "      <th>conversions</th>\n",
       "      <th>view-throughconv</th>\n",
       "      <th>cost/conv</th>\n",
       "      <th>convrate</th>\n",
       "    </tr>\n",
       "  </thead>\n",
       "  <tbody>\n",
       "    <tr>\n",
       "      <th>0</th>\n",
       "      <td>rumahSubsidi // griyaBukitIntan</td>\n",
       "      <td>1</td>\n",
       "      <td>Search</td>\n",
       "      <td>All features</td>\n",
       "      <td>Desktop</td>\n",
       "      <td>IDR</td>\n",
       "      <td>0.0</td>\n",
       "      <td>0</td>\n",
       "      <td>37</td>\n",
       "      <td>0.00</td>\n",
       "      <td>0.00</td>\n",
       "      <td>0.00</td>\n",
       "      <td>0.0</td>\n",
       "      <td>0</td>\n",
       "      <td>0.00</td>\n",
       "      <td>0.0</td>\n",
       "    </tr>\n",
       "    <tr>\n",
       "      <th>1</th>\n",
       "      <td>rumahSubsidi // griyaBukitIntan</td>\n",
       "      <td>16</td>\n",
       "      <td>Search</td>\n",
       "      <td>All features</td>\n",
       "      <td>Mobile</td>\n",
       "      <td>IDR</td>\n",
       "      <td>100.0</td>\n",
       "      <td>29</td>\n",
       "      <td>2831</td>\n",
       "      <td>1.02</td>\n",
       "      <td>1073.89</td>\n",
       "      <td>31142.69</td>\n",
       "      <td>2.0</td>\n",
       "      <td>0</td>\n",
       "      <td>15571.35</td>\n",
       "      <td>6.9</td>\n",
       "    </tr>\n",
       "    <tr>\n",
       "      <th>2</th>\n",
       "      <td>rumahSubsidi // griyaBukitIntan</td>\n",
       "      <td>20</td>\n",
       "      <td>Search</td>\n",
       "      <td>All features</td>\n",
       "      <td>Desktop</td>\n",
       "      <td>IDR</td>\n",
       "      <td>0.0</td>\n",
       "      <td>0</td>\n",
       "      <td>217</td>\n",
       "      <td>0.00</td>\n",
       "      <td>0.00</td>\n",
       "      <td>0.00</td>\n",
       "      <td>0.0</td>\n",
       "      <td>0</td>\n",
       "      <td>0.00</td>\n",
       "      <td>0.0</td>\n",
       "    </tr>\n",
       "    <tr>\n",
       "      <th>3</th>\n",
       "      <td>rumahSubsidi // griyaBukitIntan</td>\n",
       "      <td>15</td>\n",
       "      <td>Search</td>\n",
       "      <td>All features</td>\n",
       "      <td>Desktop</td>\n",
       "      <td>IDR</td>\n",
       "      <td>60.0</td>\n",
       "      <td>0</td>\n",
       "      <td>534</td>\n",
       "      <td>0.00</td>\n",
       "      <td>0.00</td>\n",
       "      <td>0.00</td>\n",
       "      <td>0.0</td>\n",
       "      <td>0</td>\n",
       "      <td>0.00</td>\n",
       "      <td>0.0</td>\n",
       "    </tr>\n",
       "    <tr>\n",
       "      <th>4</th>\n",
       "      <td>rumahSubsidi // griyaBukitIntan</td>\n",
       "      <td>8</td>\n",
       "      <td>Search</td>\n",
       "      <td>All features</td>\n",
       "      <td>Mobile</td>\n",
       "      <td>IDR</td>\n",
       "      <td>100.0</td>\n",
       "      <td>9</td>\n",
       "      <td>1473</td>\n",
       "      <td>0.61</td>\n",
       "      <td>1016.65</td>\n",
       "      <td>9149.82</td>\n",
       "      <td>0.0</td>\n",
       "      <td>0</td>\n",
       "      <td>0.00</td>\n",
       "      <td>0.0</td>\n",
       "    </tr>\n",
       "  </tbody>\n",
       "</table>\n",
       "</div>"
      ],
      "text/plain": [
       "                          campaign  hourofday campaigntype campaignsubtype  \\\n",
       "0  rumahSubsidi // griyaBukitIntan          1       Search    All features   \n",
       "1  rumahSubsidi // griyaBukitIntan         16       Search    All features   \n",
       "2  rumahSubsidi // griyaBukitIntan         20       Search    All features   \n",
       "3  rumahSubsidi // griyaBukitIntan         15       Search    All features   \n",
       "4  rumahSubsidi // griyaBukitIntan          8       Search    All features   \n",
       "\n",
       "    device currency  impr(top)%  clicks  impressions   ctr   avgcpc      cost  \\\n",
       "0  Desktop      IDR         0.0       0           37  0.00     0.00      0.00   \n",
       "1   Mobile      IDR       100.0      29         2831  1.02  1073.89  31142.69   \n",
       "2  Desktop      IDR         0.0       0          217  0.00     0.00      0.00   \n",
       "3  Desktop      IDR        60.0       0          534  0.00     0.00      0.00   \n",
       "4   Mobile      IDR       100.0       9         1473  0.61  1016.65   9149.82   \n",
       "\n",
       "   conversions  view-throughconv  cost/conv  convrate  \n",
       "0          0.0                 0       0.00       0.0  \n",
       "1          2.0                 0   15571.35       6.9  \n",
       "2          0.0                 0       0.00       0.0  \n",
       "3          0.0                 0       0.00       0.0  \n",
       "4          0.0                 0       0.00       0.0  "
      ]
     },
     "execution_count": 178,
     "metadata": {},
     "output_type": "execute_result"
    }
   ],
   "source": [
    "hod.head()"
   ]
  },
  {
   "cell_type": "code",
   "execution_count": 185,
   "metadata": {},
   "outputs": [
    {
     "data": {
      "text/plain": [
       "<matplotlib.axes._subplots.AxesSubplot at 0x7fe0c7420b90>"
      ]
     },
     "execution_count": 185,
     "metadata": {},
     "output_type": "execute_result"
    },
    {
     "data": {
      "image/png": "[encoded data removed]",
      "text/plain": [
       "<Figure size 1080x576 with 1 Axes>"
      ]
     },
     "metadata": {
      "needs_background": "light"
     },
     "output_type": "display_data"
    }
   ],
   "source": [
    "plt.figure(figsize=(15,8))\n",
    "sns.scatterplot(x='clicks', y='impressions', data=hod)"
   ]
  },
  {
   "cell_type": "code",
   "execution_count": 183,
   "metadata": {},
   "outputs": [
    {
     "data": {
      "text/plain": [
       "<matplotlib.axes._subplots.AxesSubplot at 0x7fe0c6bffc10>"
      ]
     },
     "execution_count": 183,
     "metadata": {},
     "output_type": "execute_result"
    },
    {
     "data": {
      "image/png": "[encoded data removed]",
      "text/plain": [
       "<Figure size 1080x576 with 1 Axes>"
      ]
     },
     "metadata": {
      "needs_background": "light"
     },
     "output_type": "display_data"
    }
   ],
   "source": [
    "plt.figure(figsize=(15,8))\n",
    "sns.scatterplot(x='conversions', y='impressions', data=hod)"
   ]
  },
  {
   "cell_type": "code",
   "execution_count": 301,
   "metadata": {},
   "outputs": [
    {
     "data": {
      "text/plain": [
       "<matplotlib.axes._subplots.AxesSubplot at 0x7fe0ced75f50>"
      ]
     },
     "execution_count": 301,
     "metadata": {},
     "output_type": "execute_result"
    },
    {
     "data": {
      "image/png": "[encoded data removed]",
      "text/plain": [
       "<Figure size 1080x576 with 1 Axes>"
      ]
     },
     "metadata": {
      "needs_background": "light"
     },
     "output_type": "display_data"
    }
   ],
   "source": [
    "plt.figure(figsize=(15,8))\n",
    "sns.scatterplot(x='convrate', y='clicks', data=hod)"
   ]
  },
  {
   "cell_type": "markdown",
   "metadata": {},
   "source": [
    "## Clustering for Cost & Impressions\n",
    "> ## Agglomerative Clustering"
   ]
  },
  {
   "cell_type": "code",
   "execution_count": 242,
   "metadata": {},
   "outputs": [
    {
     "data": {
      "text/html": [
       "<div>\n",
       "<style scoped>\n",
       "    .dataframe tbody tr th:only-of-type {\n",
       "        vertical-align: middle;\n",
       "    }\n",
       "\n",
       "    .dataframe tbody tr th {\n",
       "        vertical-align: top;\n",
       "    }\n",
       "\n",
       "    .dataframe thead th {\n",
       "        text-align: right;\n",
       "    }\n",
       "</style>\n",
       "<table border=\"1\" class=\"dataframe\">\n",
       "  <thead>\n",
       "    <tr style=\"text-align: right;\">\n",
       "      <th></th>\n",
       "      <th>cost</th>\n",
       "      <th>impressions</th>\n",
       "    </tr>\n",
       "  </thead>\n",
       "  <tbody>\n",
       "    <tr>\n",
       "      <th>0</th>\n",
       "      <td>0.00</td>\n",
       "      <td>37</td>\n",
       "    </tr>\n",
       "    <tr>\n",
       "      <th>1</th>\n",
       "      <td>31142.69</td>\n",
       "      <td>2831</td>\n",
       "    </tr>\n",
       "    <tr>\n",
       "      <th>2</th>\n",
       "      <td>0.00</td>\n",
       "      <td>217</td>\n",
       "    </tr>\n",
       "    <tr>\n",
       "      <th>3</th>\n",
       "      <td>0.00</td>\n",
       "      <td>534</td>\n",
       "    </tr>\n",
       "    <tr>\n",
       "      <th>4</th>\n",
       "      <td>9149.82</td>\n",
       "      <td>1473</td>\n",
       "    </tr>\n",
       "    <tr>\n",
       "      <th>...</th>\n",
       "      <td>...</td>\n",
       "      <td>...</td>\n",
       "    </tr>\n",
       "    <tr>\n",
       "      <th>270</th>\n",
       "      <td>0.00</td>\n",
       "      <td>20</td>\n",
       "    </tr>\n",
       "    <tr>\n",
       "      <th>271</th>\n",
       "      <td>6315.84</td>\n",
       "      <td>390</td>\n",
       "    </tr>\n",
       "    <tr>\n",
       "      <th>272</th>\n",
       "      <td>0.00</td>\n",
       "      <td>17</td>\n",
       "    </tr>\n",
       "    <tr>\n",
       "      <th>273</th>\n",
       "      <td>12060.00</td>\n",
       "      <td>11</td>\n",
       "    </tr>\n",
       "    <tr>\n",
       "      <th>274</th>\n",
       "      <td>0.00</td>\n",
       "      <td>2</td>\n",
       "    </tr>\n",
       "  </tbody>\n",
       "</table>\n",
       "<p>255 rows × 2 columns</p>\n",
       "</div>"
      ],
      "text/plain": [
       "         cost  impressions\n",
       "0        0.00           37\n",
       "1    31142.69         2831\n",
       "2        0.00          217\n",
       "3        0.00          534\n",
       "4     9149.82         1473\n",
       "..        ...          ...\n",
       "270      0.00           20\n",
       "271   6315.84          390\n",
       "272      0.00           17\n",
       "273  12060.00           11\n",
       "274      0.00            2\n",
       "\n",
       "[255 rows x 2 columns]"
      ]
     },
     "execution_count": 242,
     "metadata": {},
     "output_type": "execute_result"
    }
   ],
   "source": [
    "X = hod[['cost','impressions']]\n",
    "X"
   ]
  },
  {
   "cell_type": "code",
   "execution_count": 243,
   "metadata": {},
   "outputs": [],
   "source": [
    "df = X"
   ]
  },
  {
   "cell_type": "code",
   "execution_count": 244,
   "metadata": {},
   "outputs": [
    {
     "data": {
      "text/plain": [
       "<matplotlib.axes._subplots.AxesSubplot at 0x7fe0c9a2ce90>"
      ]
     },
     "execution_count": 244,
     "metadata": {},
     "output_type": "execute_result"
    },
    {
     "data": {
      "image/png": "[encoded data removed]",
      "text/plain": [
       "<Figure size 1080x576 with 1 Axes>"
      ]
     },
     "metadata": {
      "needs_background": "light"
     },
     "output_type": "display_data"
    }
   ],
   "source": [
    "plt.figure(figsize=(15,8))\n",
    "sns.scatterplot(x='cost', y='impressions', data=X)"
   ]
  },
  {
   "cell_type": "code",
   "execution_count": 245,
   "metadata": {},
   "outputs": [
    {
     "data": {
      "image/png": "[encoded data removed]",
      "text/plain": [
       "<Figure size 1800x576 with 1 Axes>"
      ]
     },
     "metadata": {
      "needs_background": "light"
     },
     "output_type": "display_data"
    }
   ],
   "source": [
    "linkage_array = ward(X)\n",
    "\n",
    "plt.figure(figsize=(25,8))\n",
    "dendrogram(linkage_array)\n",
    "\n",
    "ax = plt.gca()\n",
    "bounds = ax.get_xbound()\n",
    "ax.plot(bounds, [200000,200000], '--', c='k')\n",
    "ax.plot(bounds, [100000,100000], '--', c='k')\n",
    "ax.text(bounds[1], 200000, 'two clusters', va='center')\n",
    "ax.text(bounds[1], 100000, 'three clusters', va='center')\n",
    "plt.title('Ward')\n",
    "plt.xlabel('Sample Index')\n",
    "plt.ylabel('Cluster Distance')\n",
    "\n",
    "plt.show()"
   ]
  },
  {
   "cell_type": "code",
   "execution_count": 246,
   "metadata": {},
   "outputs": [
    {
     "data": {
      "image/png": "[encoded data removed]",
      "text/plain": [
       "<Figure size 1800x576 with 1 Axes>"
      ]
     },
     "metadata": {
      "needs_background": "light"
     },
     "output_type": "display_data"
    }
   ],
   "source": [
    "linkage_array = average(X)\n",
    "\n",
    "plt.figure(figsize=(25,8))\n",
    "dendrogram(linkage_array)\n",
    "\n",
    "ax = plt.gca()\n",
    "bounds = ax.get_xbound()\n",
    "ax.plot(bounds, [40000,40000], '--', c='k')\n",
    "ax.plot(bounds, [20000,20000], '--', c='k')\n",
    "ax.text(bounds[1], 40000, 'two clusters', va='center')\n",
    "ax.text(bounds[1], 20000, 'four clusters', va='center')\n",
    "plt.title('Average')\n",
    "plt.xlabel('Sample Index')\n",
    "plt.ylabel('Cluster Distance')\n",
    "\n",
    "plt.show()"
   ]
  },
  {
   "cell_type": "code",
   "execution_count": 247,
   "metadata": {},
   "outputs": [
    {
     "data": {
      "image/png": "[encoded data removed]",
      "text/plain": [
       "<Figure size 1800x576 with 1 Axes>"
      ]
     },
     "metadata": {
      "needs_background": "light"
     },
     "output_type": "display_data"
    }
   ],
   "source": [
    "linkage_array = complete(X)\n",
    "\n",
    "plt.figure(figsize=(25,8))\n",
    "dendrogram(linkage_array)\n",
    "\n",
    "ax = plt.gca()\n",
    "bounds = ax.get_xbound()\n",
    "ax.plot(bounds, [60000,60000], '--', c='k')\n",
    "ax.plot(bounds, [30000,30000], '--', c='k')\n",
    "ax.text(bounds[1], 60000, 'two clusters', va='center')\n",
    "ax.text(bounds[1], 30000, 'four clusters', va='center')\n",
    "plt.title('Complete')\n",
    "plt.xlabel('Sample Index')\n",
    "plt.ylabel('Cluster Distance')\n",
    "\n",
    "plt.show()"
   ]
  },
  {
   "cell_type": "markdown",
   "metadata": {},
   "source": [
    "> ## Result Comparison"
   ]
  },
  {
   "cell_type": "code",
   "execution_count": 248,
   "metadata": {},
   "outputs": [
    {
     "name": "stderr",
     "output_type": "stream",
     "text": [
      "/Users/ndaru/opt/anaconda3/envs/python37/lib/python3.7/site-packages/ipykernel_launcher.py:2: SettingWithCopyWarning: \n",
      "A value is trying to be set on a copy of a slice from a DataFrame.\n",
      "Try using .loc[row_indexer,col_indexer] = value instead\n",
      "\n",
      "See the caveats in the documentation: https://pandas.pydata.org/pandas-docs/stable/user_guide/indexing.html#returning-a-view-versus-a-copy\n",
      "  \n",
      "/Users/ndaru/opt/anaconda3/envs/python37/lib/python3.7/site-packages/ipykernel_launcher.py:5: SettingWithCopyWarning: \n",
      "A value is trying to be set on a copy of a slice from a DataFrame.\n",
      "Try using .loc[row_indexer,col_indexer] = value instead\n",
      "\n",
      "See the caveats in the documentation: https://pandas.pydata.org/pandas-docs/stable/user_guide/indexing.html#returning-a-view-versus-a-copy\n",
      "  \"\"\"\n",
      "/Users/ndaru/opt/anaconda3/envs/python37/lib/python3.7/site-packages/ipykernel_launcher.py:8: SettingWithCopyWarning: \n",
      "A value is trying to be set on a copy of a slice from a DataFrame.\n",
      "Try using .loc[row_indexer,col_indexer] = value instead\n",
      "\n",
      "See the caveats in the documentation: https://pandas.pydata.org/pandas-docs/stable/user_guide/indexing.html#returning-a-view-versus-a-copy\n",
      "  \n"
     ]
    }
   ],
   "source": [
    "agg_ward = AgglomerativeClustering(n_clusters=3, linkage='ward')\n",
    "df['ward'] = agg_ward.fit_predict(X)\n",
    "\n",
    "agg_average = AgglomerativeClustering(n_clusters=4, linkage='average')\n",
    "df['average'] = agg_average.fit_predict(X)\n",
    "\n",
    "agg_complete = AgglomerativeClustering(n_clusters=4, linkage='complete')\n",
    "df['complete'] = agg_complete.fit_predict(X)"
   ]
  },
  {
   "cell_type": "code",
   "execution_count": 249,
   "metadata": {},
   "outputs": [
    {
     "data": {
      "text/html": [
       "<div>\n",
       "<style scoped>\n",
       "    .dataframe tbody tr th:only-of-type {\n",
       "        vertical-align: middle;\n",
       "    }\n",
       "\n",
       "    .dataframe tbody tr th {\n",
       "        vertical-align: top;\n",
       "    }\n",
       "\n",
       "    .dataframe thead th {\n",
       "        text-align: right;\n",
       "    }\n",
       "</style>\n",
       "<table border=\"1\" class=\"dataframe\">\n",
       "  <thead>\n",
       "    <tr style=\"text-align: right;\">\n",
       "      <th></th>\n",
       "      <th>cost</th>\n",
       "      <th>impressions</th>\n",
       "      <th>ward</th>\n",
       "      <th>average</th>\n",
       "      <th>complete</th>\n",
       "    </tr>\n",
       "  </thead>\n",
       "  <tbody>\n",
       "    <tr>\n",
       "      <th>0</th>\n",
       "      <td>0.00</td>\n",
       "      <td>37</td>\n",
       "      <td>0</td>\n",
       "      <td>3</td>\n",
       "      <td>3</td>\n",
       "    </tr>\n",
       "    <tr>\n",
       "      <th>1</th>\n",
       "      <td>31142.69</td>\n",
       "      <td>2831</td>\n",
       "      <td>1</td>\n",
       "      <td>0</td>\n",
       "      <td>1</td>\n",
       "    </tr>\n",
       "    <tr>\n",
       "      <th>2</th>\n",
       "      <td>0.00</td>\n",
       "      <td>217</td>\n",
       "      <td>0</td>\n",
       "      <td>3</td>\n",
       "      <td>3</td>\n",
       "    </tr>\n",
       "    <tr>\n",
       "      <th>3</th>\n",
       "      <td>0.00</td>\n",
       "      <td>534</td>\n",
       "      <td>0</td>\n",
       "      <td>3</td>\n",
       "      <td>3</td>\n",
       "    </tr>\n",
       "    <tr>\n",
       "      <th>4</th>\n",
       "      <td>9149.82</td>\n",
       "      <td>1473</td>\n",
       "      <td>0</td>\n",
       "      <td>3</td>\n",
       "      <td>3</td>\n",
       "    </tr>\n",
       "    <tr>\n",
       "      <th>...</th>\n",
       "      <td>...</td>\n",
       "      <td>...</td>\n",
       "      <td>...</td>\n",
       "      <td>...</td>\n",
       "      <td>...</td>\n",
       "    </tr>\n",
       "    <tr>\n",
       "      <th>270</th>\n",
       "      <td>0.00</td>\n",
       "      <td>20</td>\n",
       "      <td>0</td>\n",
       "      <td>3</td>\n",
       "      <td>3</td>\n",
       "    </tr>\n",
       "    <tr>\n",
       "      <th>271</th>\n",
       "      <td>6315.84</td>\n",
       "      <td>390</td>\n",
       "      <td>0</td>\n",
       "      <td>3</td>\n",
       "      <td>3</td>\n",
       "    </tr>\n",
       "    <tr>\n",
       "      <th>272</th>\n",
       "      <td>0.00</td>\n",
       "      <td>17</td>\n",
       "      <td>0</td>\n",
       "      <td>3</td>\n",
       "      <td>3</td>\n",
       "    </tr>\n",
       "    <tr>\n",
       "      <th>273</th>\n",
       "      <td>12060.00</td>\n",
       "      <td>11</td>\n",
       "      <td>0</td>\n",
       "      <td>3</td>\n",
       "      <td>3</td>\n",
       "    </tr>\n",
       "    <tr>\n",
       "      <th>274</th>\n",
       "      <td>0.00</td>\n",
       "      <td>2</td>\n",
       "      <td>0</td>\n",
       "      <td>3</td>\n",
       "      <td>3</td>\n",
       "    </tr>\n",
       "  </tbody>\n",
       "</table>\n",
       "<p>255 rows × 5 columns</p>\n",
       "</div>"
      ],
      "text/plain": [
       "         cost  impressions  ward  average  complete\n",
       "0        0.00           37     0        3         3\n",
       "1    31142.69         2831     1        0         1\n",
       "2        0.00          217     0        3         3\n",
       "3        0.00          534     0        3         3\n",
       "4     9149.82         1473     0        3         3\n",
       "..        ...          ...   ...      ...       ...\n",
       "270      0.00           20     0        3         3\n",
       "271   6315.84          390     0        3         3\n",
       "272      0.00           17     0        3         3\n",
       "273  12060.00           11     0        3         3\n",
       "274      0.00            2     0        3         3\n",
       "\n",
       "[255 rows x 5 columns]"
      ]
     },
     "execution_count": 249,
     "metadata": {},
     "output_type": "execute_result"
    }
   ],
   "source": [
    "df"
   ]
  },
  {
   "cell_type": "code",
   "execution_count": 250,
   "metadata": {},
   "outputs": [
    {
     "data": {
      "text/plain": [
       "<matplotlib.axes._subplots.AxesSubplot at 0x7fe0c9a40d10>"
      ]
     },
     "execution_count": 250,
     "metadata": {},
     "output_type": "execute_result"
    },
    {
     "data": {
      "image/png": "[encoded data removed]",
      "text/plain": [
       "<Figure size 1080x576 with 1 Axes>"
      ]
     },
     "metadata": {
      "needs_background": "light"
     },
     "output_type": "display_data"
    }
   ],
   "source": [
    "plt.figure(figsize=(15,8))\n",
    "sns.scatterplot(x='cost', y='impressions', hue='complete', data=df, palette='crest')"
   ]
  },
  {
   "cell_type": "markdown",
   "metadata": {},
   "source": [
    "> ## Using K-Means"
   ]
  },
  {
   "cell_type": "code",
   "execution_count": 294,
   "metadata": {},
   "outputs": [
    {
     "data": {
      "text/plain": [
       "<Figure size 1080x576 with 0 Axes>"
      ]
     },
     "metadata": {},
     "output_type": "display_data"
    }
   ],
   "source": [
    "XX = X[['cost','impressions']].values\n",
    "\n",
    "# ato bisa juga pakai to_numpy()"
   ]
  },
  {
   "cell_type": "code",
   "execution_count": 288,
   "metadata": {},
   "outputs": [
    {
     "data": {
      "text/plain": [
       "array([[    0.  ,    37.  ],\n",
       "       [31142.69,  2831.  ],\n",
       "       [    0.  ,   217.  ],\n",
       "       [    0.  ,   534.  ],\n",
       "       [ 9149.82,  1473.  ]])"
      ]
     },
     "execution_count": 288,
     "metadata": {},
     "output_type": "execute_result"
    }
   ],
   "source": [
    "XX[:5]"
   ]
  },
  {
   "cell_type": "code",
   "execution_count": 289,
   "metadata": {},
   "outputs": [
    {
     "data": {
      "text/plain": [
       "KMeans(n_clusters=3)"
      ]
     },
     "execution_count": 289,
     "metadata": {},
     "output_type": "execute_result"
    }
   ],
   "source": [
    "kmeans = KMeans(n_clusters=3)\n",
    "kmeans.fit(XX)"
   ]
  },
  {
   "cell_type": "code",
   "execution_count": 290,
   "metadata": {},
   "outputs": [
    {
     "data": {
      "text/plain": [
       "array([0, 1, 0, 0, 0, 0, 0, 0, 0, 0, 0, 0, 0, 0, 0, 0, 0, 0, 0, 0, 0, 0,\n",
       "       0, 0, 0, 1, 0, 0, 0, 0, 0, 0, 0, 0, 0, 0, 0, 0, 2, 0, 0, 0, 1, 0,\n",
       "       0, 1, 0, 1, 0, 0, 0, 0, 0, 0, 0, 0, 0, 0, 0, 0, 0, 0, 0, 0, 0, 0,\n",
       "       0, 0, 0, 0, 0, 0, 0, 0, 1, 0, 0, 0, 0, 0, 0, 1, 0, 0, 0, 1, 0, 0,\n",
       "       0, 0, 0, 0, 0, 0, 0, 0, 1, 1, 1, 0, 0, 0, 1, 1, 0, 0, 0, 1, 0, 0,\n",
       "       0, 1, 1, 0, 0, 0, 0, 0, 0, 0, 0, 0, 0, 0, 0, 0, 0, 0, 0, 0, 0, 0,\n",
       "       0, 0, 0, 0, 0, 0, 0, 0, 0, 0, 0, 0, 0, 0, 2, 0, 0, 0, 0, 0, 0, 1,\n",
       "       0, 0, 0, 0, 0, 0, 0, 0, 0, 0, 0, 0, 0, 0, 0, 0, 1, 0, 0, 0, 0, 0,\n",
       "       0, 0, 1, 0, 0, 2, 0, 1, 0, 0, 1, 0, 0, 0, 0, 0, 0, 0, 2, 0, 2, 0,\n",
       "       0, 0, 0, 0, 0, 0, 0, 0, 0, 0, 0, 0, 0, 0, 0, 0, 0, 0, 0, 0, 0, 0,\n",
       "       0, 0, 0, 0, 0, 0, 0, 0, 0, 0, 0, 0, 1, 0, 0, 0, 0, 0, 0, 2, 0, 0,\n",
       "       0, 0, 0, 0, 1, 0, 2, 0, 0, 0, 0, 0, 0], dtype=int32)"
      ]
     },
     "execution_count": 290,
     "metadata": {},
     "output_type": "execute_result"
    }
   ],
   "source": [
    "kmeans.labels_"
   ]
  },
  {
   "cell_type": "code",
   "execution_count": 300,
   "metadata": {},
   "outputs": [
    {
     "name": "stderr",
     "output_type": "stream",
     "text": [
      "/Users/ndaru/opt/anaconda3/envs/python37/lib/python3.7/site-packages/seaborn/_decorators.py:43: FutureWarning: Pass the following variables as keyword args: x, y. From version 0.12, the only valid positional argument will be `data`, and passing other arguments without an explicit keyword will result in an error or misinterpretation.\n",
      "  FutureWarning\n"
     ]
    },
    {
     "data": {
      "text/plain": [
       "<matplotlib.axes._subplots.AxesSubplot at 0x7fe0ce82cdd0>"
      ]
     },
     "execution_count": 300,
     "metadata": {},
     "output_type": "execute_result"
    },
    {
     "data": {
      "image/png": "[encoded data removed]",
      "text/plain": [
       "<Figure size 1080x576 with 1 Axes>"
      ]
     },
     "metadata": {
      "needs_background": "light"
     },
     "output_type": "display_data"
    }
   ],
   "source": [
    "plt.figure(figsize=(15,8))\n",
    "sns.scatterplot(XX[:,0], XX[:,1], hue=kmeans.labels_, palette='flare')"
   ]
  },
  {
   "cell_type": "code",
   "execution_count": null,
   "metadata": {},
   "outputs": [],
   "source": []
  },
  {
   "cell_type": "markdown",
   "metadata": {},
   "source": [
    "> ## Predicition using DecisionTreeRegressor and RandomForestRegressor"
   ]
  },
  {
   "cell_type": "code",
   "execution_count": 412,
   "metadata": {},
   "outputs": [],
   "source": [
    "# X = hod[['hourofday', 'device', 'impr(top)%', 'clicks', 'impressions', 'ctr', 'avgcpc','cost', 'conversions', 'cost/conv']]\n",
    "X = hod[['hourofday', 'device', 'impr(top)%', 'clicks', 'impressions', 'ctr', 'avgcpc',\n",
    "       'cost', 'conversions']]\n",
    "y = hod['convrate']"
   ]
  },
  {
   "cell_type": "code",
   "execution_count": 413,
   "metadata": {},
   "outputs": [
    {
     "data": {
      "text/plain": [
       "<matplotlib.axes._subplots.AxesSubplot at 0x7fe0cbf0cf10>"
      ]
     },
     "execution_count": 413,
     "metadata": {},
     "output_type": "execute_result"
    },
    {
     "data": {
      "image/png": "[encoded data removed]",
      "text/plain": [
       "<Figure size 1080x576 with 2 Axes>"
      ]
     },
     "metadata": {
      "needs_background": "light"
     },
     "output_type": "display_data"
    }
   ],
   "source": [
    "plt.figure(figsize=(15,8))\n",
    "sns.heatmap(X.corr(), annot=True, linewidths=2)"
   ]
  },
  {
   "cell_type": "code",
   "execution_count": 414,
   "metadata": {},
   "outputs": [
    {
     "name": "stdout",
     "output_type": "stream",
     "text": [
      "<class 'pandas.core.frame.DataFrame'>\n",
      "Int64Index: 255 entries, 0 to 274\n",
      "Data columns (total 9 columns):\n",
      " #   Column       Non-Null Count  Dtype  \n",
      "---  ------       --------------  -----  \n",
      " 0   hourofday    255 non-null    int64  \n",
      " 1   device       255 non-null    object \n",
      " 2   impr(top)%   255 non-null    float64\n",
      " 3   clicks       255 non-null    int64  \n",
      " 4   impressions  255 non-null    int64  \n",
      " 5   ctr          255 non-null    float64\n",
      " 6   avgcpc       255 non-null    float64\n",
      " 7   cost         255 non-null    float64\n",
      " 8   conversions  255 non-null    float64\n",
      "dtypes: float64(5), int64(3), object(1)\n",
      "memory usage: 29.9+ KB\n"
     ]
    }
   ],
   "source": [
    "X.info()"
   ]
  },
  {
   "cell_type": "code",
   "execution_count": 415,
   "metadata": {},
   "outputs": [
    {
     "data": {
      "text/plain": [
       "Index(['campaign', 'hourofday', 'campaigntype', 'campaignsubtype', 'device',\n",
       "       'currency', 'impr(top)%', 'clicks', 'impressions', 'ctr', 'avgcpc',\n",
       "       'cost', 'conversions', 'view-throughconv', 'cost/conv', 'convrate'],\n",
       "      dtype='object')"
      ]
     },
     "execution_count": 415,
     "metadata": {},
     "output_type": "execute_result"
    }
   ],
   "source": [
    "hod.columns"
   ]
  },
  {
   "cell_type": "code",
   "execution_count": 416,
   "metadata": {},
   "outputs": [],
   "source": [
    "X_train, X_test, y_train, y_test = train_test_split(X, y, test_size=0.2,  random_state=111)"
   ]
  },
  {
   "cell_type": "code",
   "execution_count": 417,
   "metadata": {},
   "outputs": [
    {
     "data": {
      "text/plain": [
       "(255,)"
      ]
     },
     "execution_count": 417,
     "metadata": {},
     "output_type": "execute_result"
    }
   ],
   "source": [
    "y.shape"
   ]
  },
  {
   "cell_type": "code",
   "execution_count": 418,
   "metadata": {},
   "outputs": [
    {
     "data": {
      "text/plain": [
       "((204, 9), (51, 9), (204,), (51,))"
      ]
     },
     "execution_count": 418,
     "metadata": {},
     "output_type": "execute_result"
    }
   ],
   "source": [
    "X_train.shape, X_test.shape, y_train.shape, y_test.shape"
   ]
  },
  {
   "cell_type": "code",
   "execution_count": 445,
   "metadata": {},
   "outputs": [],
   "source": [
    "# Untuk onehot fitur Device\n",
    "onehot_pipeline = Pipeline([\n",
    "    ('onehot', OneHotEncoder(drop='first'))\n",
    "])\n",
    "\n",
    "transformer = ColumnTransformer([\n",
    "    ('onehot', onehot_pipeline, ['device']),\n",
    "], remainder='passthrough')\n",
    "\n",
    "# model initializing\n",
    "rfr = RandomForestRegressor(max_depth=9, random_state=111)\n",
    "dtr = DecisionTreeRegressor(max_depth=9, random_state=111)\n",
    "rfe = RFE(estimator=dtr)\n",
    "xg_b = xgb.XGBRegressor(objective ='reg:linear', n_estimators = 10, seed = 111)\n",
    "\n",
    "all_in_pipeline = Pipeline([\n",
    "    ('transformer', transformer),\n",
    "    ('rfe', rfe),\n",
    "    ('rgs', dtr)\n",
    "])\n",
    "\n",
    "all_in_pipeline_rfr = Pipeline([\n",
    "    ('transformer', transformer),\n",
    "    ('rfe', rfe),\n",
    "    ('rfr', rfr)\n",
    "])\n",
    "\n",
    "all_in_pipeline_xgb = Pipeline([\n",
    "    ('transformer', transformer),\n",
    "    ('rfe', rfe),\n",
    "    ('xgb', xg_b)\n",
    "])"
   ]
  },
  {
   "cell_type": "code",
   "execution_count": null,
   "metadata": {},
   "outputs": [],
   "source": []
  },
  {
   "cell_type": "code",
   "execution_count": 420,
   "metadata": {},
   "outputs": [
    {
     "name": "stdout",
     "output_type": "stream",
     "text": [
      "r2/variance train :  0.999717865074209\n",
      "r2/variance test :  0.2390844711069383\n",
      "Residual sum of squares: 3.09\n"
     ]
    }
   ],
   "source": [
    "all_in_pipeline.fit(X_train, y_train)\n",
    "predictions = all_in_pipeline.predict(X_test)\n",
    "\n",
    "print(\"r2/variance train : \", all_in_pipeline.score(X_train,y_train))\n",
    "print(\"r2/variance test : \", all_in_pipeline.score(X_test,y_test))\n",
    "print(\"Residual sum of squares: %.2f\"\n",
    "              % np.mean((all_in_pipeline.predict(X_test) - y_test) ** 2))"
   ]
  },
  {
   "cell_type": "code",
   "execution_count": 426,
   "metadata": {},
   "outputs": [
    {
     "name": "stdout",
     "output_type": "stream",
     "text": [
      "r2/variance train :  0.9750122404527235\n",
      "r2/variance test :  0.6884169390692284\n",
      "Residual sum of squares: 1.26\n"
     ]
    }
   ],
   "source": [
    "all_in_pipeline_rfr.fit(X_train, y_train)\n",
    "predictions = all_in_pipeline_rfr.predict(X_test)\n",
    "\n",
    "print(\"r2/variance train : \", all_in_pipeline_rfr.score(X_train,y_train))\n",
    "print(\"r2/variance test : \", all_in_pipeline_rfr.score(X_test,y_test))\n",
    "print(\"Residual sum of squares: %.2f\"\n",
    "              % np.mean((all_in_pipeline_rfr.predict(X_test) - y_test) ** 2))"
   ]
  },
  {
   "cell_type": "code",
   "execution_count": 446,
   "metadata": {},
   "outputs": [
    {
     "name": "stdout",
     "output_type": "stream",
     "text": [
      "[17:06:42] WARNING: /Users/runner/miniforge3/conda-bld/xgboost_1593723618214/work/src/objective/regression_obj.cu:170: reg:linear is now deprecated in favor of reg:squarederror.\n",
      "[17:06:42] WARNING: /Users/runner/miniforge3/conda-bld/xgboost_1593723618214/work/src/objective/regression_obj.cu:170: reg:linear is now deprecated in favor of reg:squarederror.\n",
      "r2/variance train :  0.9894194403390292\n",
      "r2/variance test :  0.6149375835091879\n",
      "Residual sum of squares: 1.56\n"
     ]
    }
   ],
   "source": [
    "all_in_pipeline_xgb.fit(X_train, y_train)\n",
    "predictions = all_in_pipeline_xgb.predict(X_test)\n",
    "\n",
    "print(\"r2/variance train : \", all_in_pipeline_xgb.score(X_train,y_train))\n",
    "print(\"r2/variance test : \", all_in_pipeline_xgb.score(X_test,y_test))\n",
    "print(\"Residual sum of squares: %.2f\"\n",
    "              % np.mean((all_in_pipeline_xgb.predict(X_test) - y_test) ** 2))"
   ]
  },
  {
   "cell_type": "code",
   "execution_count": null,
   "metadata": {},
   "outputs": [],
   "source": [
    "all_in_pipeline.get_params()"
   ]
  },
  {
   "cell_type": "code",
   "execution_count": 436,
   "metadata": {},
   "outputs": [
    {
     "data": {
      "text/plain": [
       "{'memory': None,\n",
       " 'steps': [('transformer',\n",
       "   ColumnTransformer(remainder='passthrough',\n",
       "                     transformers=[('onehot',\n",
       "                                    Pipeline(steps=[('onehot',\n",
       "                                                     OneHotEncoder(drop='first'))]),\n",
       "                                    ['device'])])),\n",
       "  ('rfe', RFE(estimator=DecisionTreeRegressor(max_depth=7, random_state=111))),\n",
       "  ('rfr', RandomForestRegressor(max_depth=9, random_state=111))],\n",
       " 'verbose': False,\n",
       " 'transformer': ColumnTransformer(remainder='passthrough',\n",
       "                   transformers=[('onehot',\n",
       "                                  Pipeline(steps=[('onehot',\n",
       "                                                   OneHotEncoder(drop='first'))]),\n",
       "                                  ['device'])]),\n",
       " 'rfe': RFE(estimator=DecisionTreeRegressor(max_depth=7, random_state=111)),\n",
       " 'rfr': RandomForestRegressor(max_depth=9, random_state=111),\n",
       " 'transformer__n_jobs': None,\n",
       " 'transformer__remainder': 'passthrough',\n",
       " 'transformer__sparse_threshold': 0.3,\n",
       " 'transformer__transformer_weights': None,\n",
       " 'transformer__transformers': [('onehot',\n",
       "   Pipeline(steps=[('onehot', OneHotEncoder(drop='first'))]),\n",
       "   ['device'])],\n",
       " 'transformer__verbose': False,\n",
       " 'transformer__onehot': Pipeline(steps=[('onehot', OneHotEncoder(drop='first'))]),\n",
       " 'transformer__onehot__memory': None,\n",
       " 'transformer__onehot__steps': [('onehot', OneHotEncoder(drop='first'))],\n",
       " 'transformer__onehot__verbose': False,\n",
       " 'transformer__onehot__onehot': OneHotEncoder(drop='first'),\n",
       " 'transformer__onehot__onehot__categories': 'auto',\n",
       " 'transformer__onehot__onehot__drop': 'first',\n",
       " 'transformer__onehot__onehot__dtype': numpy.float64,\n",
       " 'transformer__onehot__onehot__handle_unknown': 'error',\n",
       " 'transformer__onehot__onehot__sparse': True,\n",
       " 'rfe__estimator__ccp_alpha': 0.0,\n",
       " 'rfe__estimator__criterion': 'mse',\n",
       " 'rfe__estimator__max_depth': 7,\n",
       " 'rfe__estimator__max_features': None,\n",
       " 'rfe__estimator__max_leaf_nodes': None,\n",
       " 'rfe__estimator__min_impurity_decrease': 0.0,\n",
       " 'rfe__estimator__min_impurity_split': None,\n",
       " 'rfe__estimator__min_samples_leaf': 1,\n",
       " 'rfe__estimator__min_samples_split': 2,\n",
       " 'rfe__estimator__min_weight_fraction_leaf': 0.0,\n",
       " 'rfe__estimator__presort': 'deprecated',\n",
       " 'rfe__estimator__random_state': 111,\n",
       " 'rfe__estimator__splitter': 'best',\n",
       " 'rfe__estimator': DecisionTreeRegressor(max_depth=7, random_state=111),\n",
       " 'rfe__n_features_to_select': None,\n",
       " 'rfe__step': 1,\n",
       " 'rfe__verbose': 0,\n",
       " 'rfr__bootstrap': True,\n",
       " 'rfr__ccp_alpha': 0.0,\n",
       " 'rfr__criterion': 'mse',\n",
       " 'rfr__max_depth': 9,\n",
       " 'rfr__max_features': 'auto',\n",
       " 'rfr__max_leaf_nodes': None,\n",
       " 'rfr__max_samples': None,\n",
       " 'rfr__min_impurity_decrease': 0.0,\n",
       " 'rfr__min_impurity_split': None,\n",
       " 'rfr__min_samples_leaf': 1,\n",
       " 'rfr__min_samples_split': 2,\n",
       " 'rfr__min_weight_fraction_leaf': 0.0,\n",
       " 'rfr__n_estimators': 100,\n",
       " 'rfr__n_jobs': None,\n",
       " 'rfr__oob_score': False,\n",
       " 'rfr__random_state': 111,\n",
       " 'rfr__verbose': 0,\n",
       " 'rfr__warm_start': False}"
      ]
     },
     "execution_count": 436,
     "metadata": {},
     "output_type": "execute_result"
    }
   ],
   "source": [
    "all_in_pipeline_rfr.get_params()"
   ]
  },
  {
   "cell_type": "code",
   "execution_count": 450,
   "metadata": {},
   "outputs": [],
   "source": [
    "# all_in_pipeline_xgb.get_params()"
   ]
  },
  {
   "cell_type": "code",
   "execution_count": 451,
   "metadata": {},
   "outputs": [
    {
     "name": "stdout",
     "output_type": "stream",
     "text": [
      "Fitting 5 folds for each of 300 candidates, totalling 1500 fits\n"
     ]
    },
    {
     "name": "stderr",
     "output_type": "stream",
     "text": [
      "[Parallel(n_jobs=4)]: Using backend LokyBackend with 4 concurrent workers.\n",
      "[Parallel(n_jobs=4)]: Done 288 tasks      | elapsed:    1.6s\n",
      "[Parallel(n_jobs=4)]: Done 1500 out of 1500 | elapsed:    5.3s finished\n"
     ]
    },
    {
     "data": {
      "text/plain": [
       "GridSearchCV(estimator=Pipeline(steps=[('transformer',\n",
       "                                        ColumnTransformer(remainder='passthrough',\n",
       "                                                          transformers=[('onehot',\n",
       "                                                                         Pipeline(steps=[('onehot',\n",
       "                                                                                          OneHotEncoder(drop='first'))]),\n",
       "                                                                         ['device'])])),\n",
       "                                       ('rfe',\n",
       "                                        RFE(estimator=DecisionTreeRegressor(max_depth=9,\n",
       "                                                                            random_state=111))),\n",
       "                                       ('rgs',\n",
       "                                        DecisionTreeRegressor(max_depth=9,\n",
       "                                                              random_state=111))]),\n",
       "             n_jobs=4,\n",
       "             param_grid={'rfe__n_features_to_select': [None, 5, 6, 7, 8],\n",
       "                         'rgs__criterion': ['mse', 'mae', 'poisson'],\n",
       "                         'rgs__max_depth': [7, 8, 9, 10, 11],\n",
       "                         'rgs__min_samples_split': [6, 7, 8, 9]},\n",
       "             verbose=1)"
      ]
     },
     "execution_count": 451,
     "metadata": {},
     "output_type": "execute_result"
    }
   ],
   "source": [
    "hyperparam_space = {\n",
    "    'rgs__max_depth': [7,8,9,10,11],\n",
    "    'rgs__min_samples_split': [6,7,8,9],\n",
    "    'rgs__criterion': ['mse', 'mae', 'poisson'],\n",
    "    'rfe__n_features_to_select': [None,5,6,7,8]\n",
    "}\n",
    "\n",
    "gridsearch = GridSearchCV(all_in_pipeline, hyperparam_space, verbose=1, n_jobs=4)\n",
    "gridsearch.fit(X_train, y_train)\n"
   ]
  },
  {
   "cell_type": "code",
   "execution_count": 455,
   "metadata": {},
   "outputs": [
    {
     "name": "stdout",
     "output_type": "stream",
     "text": [
      "Fitting 5 folds for each of 75 candidates, totalling 375 fits\n"
     ]
    },
    {
     "name": "stderr",
     "output_type": "stream",
     "text": [
      "[Parallel(n_jobs=3)]: Using backend LokyBackend with 3 concurrent workers.\n",
      "[Parallel(n_jobs=3)]: Done 250 tasks      | elapsed:    1.9s\n",
      "[Parallel(n_jobs=3)]: Done 375 out of 375 | elapsed:    2.5s finished\n"
     ]
    },
    {
     "name": "stdout",
     "output_type": "stream",
     "text": [
      "[17:14:45] WARNING: /Users/runner/miniforge3/conda-bld/xgboost_1593723618214/work/src/objective/regression_obj.cu:170: reg:linear is now deprecated in favor of reg:squarederror.\n",
      "[17:14:45] WARNING: /Users/runner/miniforge3/conda-bld/xgboost_1593723618214/work/src/learner.cc:480: \n",
      "Parameters: { estimators } might not be used.\n",
      "\n",
      "  This may not be accurate due to some parameters are only used in language bindings but\n",
      "  passed down to XGBoost core.  Or some parameters are not used but slip through this\n",
      "  verification. Please open an issue if you find above cases.\n",
      "\n",
      "\n",
      "[17:14:45] WARNING: /Users/runner/miniforge3/conda-bld/xgboost_1593723618214/work/src/objective/regression_obj.cu:170: reg:linear is now deprecated in favor of reg:squarederror.\n"
     ]
    },
    {
     "data": {
      "text/plain": [
       "GridSearchCV(estimator=Pipeline(steps=[('transformer',\n",
       "                                        ColumnTransformer(remainder='passthrough',\n",
       "                                                          transformers=[('onehot',\n",
       "                                                                         Pipeline(steps=[('onehot',\n",
       "                                                                                          OneHotEncoder(drop='first'))]),\n",
       "                                                                         ['device'])])),\n",
       "                                       ('rfe',\n",
       "                                        RFE(estimator=DecisionTreeRegressor(max_depth=9,\n",
       "                                                                            random_state=111))),\n",
       "                                       ('xgb',\n",
       "                                        XGBRegressor(base_score=0.5,\n",
       "                                                     booster='gbtree',\n",
       "                                                     colsample_bylevel=1,\n",
       "                                                     colsample_b...\n",
       "                                                     monotone_constraints='()',\n",
       "                                                     n_estimators=10, n_jobs=0,\n",
       "                                                     num_parallel_tree=1,\n",
       "                                                     objective='reg:linear',\n",
       "                                                     random_state=111,\n",
       "                                                     reg_alpha=0, reg_lambda=1,\n",
       "                                                     scale_pos_weight=1,\n",
       "                                                     seed=111, subsample=1,\n",
       "                                                     tree_method='exact',\n",
       "                                                     validate_parameters=1,\n",
       "                                                     verbosity=None))]),\n",
       "             n_jobs=3,\n",
       "             param_grid={'rfe__n_features_to_select': [None, 5, 6, 7, 8],\n",
       "                         'xgb__estimators': [50, 100, 1000],\n",
       "                         'xgb__max_depth': [7, 8, 9, 10, 11]},\n",
       "             verbose=1)"
      ]
     },
     "execution_count": 455,
     "metadata": {},
     "output_type": "execute_result"
    }
   ],
   "source": [
    "hyperparam_space = {\n",
    "    'xgb__max_depth': [7,8,9,10,11],\n",
    "    'xgb__estimators': [50,100,1000],\n",
    "    'rfe__n_features_to_select': [None,5,6,7,8]\n",
    "}\n",
    "\n",
    "gridsearch_xgb = GridSearchCV(all_in_pipeline_xgb, hyperparam_space, verbose=1, n_jobs=3)\n",
    "gridsearch_xgb.fit(X_train, y_train)"
   ]
  },
  {
   "cell_type": "code",
   "execution_count": null,
   "metadata": {},
   "outputs": [],
   "source": [
    "hyperparam_space = {\n",
    "    'rgs__max_depth': [7,8,9,10,11],\n",
    "    'rgs__min_samples_split': [6,7,8],\n",
    "    'rgs__criterion': ['mse', 'mae', 'poisson'],\n",
    "    'rfe__n_features_to_select': [None,5,6,7,8]\n",
    "}\n",
    "\n",
    "gridsearch_xgb = GridSearchCV(all_in_pipeline_xgb, hyperparam_space, verbose=1, n_jobs=4)\n",
    "gridsearch_xgb.fit(X_train, y_train)"
   ]
  },
  {
   "cell_type": "code",
   "execution_count": 433,
   "metadata": {},
   "outputs": [
    {
     "data": {
      "text/html": [
       "<div>\n",
       "<style scoped>\n",
       "    .dataframe tbody tr th:only-of-type {\n",
       "        vertical-align: middle;\n",
       "    }\n",
       "\n",
       "    .dataframe tbody tr th {\n",
       "        vertical-align: top;\n",
       "    }\n",
       "\n",
       "    .dataframe thead th {\n",
       "        text-align: right;\n",
       "    }\n",
       "</style>\n",
       "<table border=\"1\" class=\"dataframe\">\n",
       "  <thead>\n",
       "    <tr style=\"text-align: right;\">\n",
       "      <th></th>\n",
       "      <th>mean_fit_time</th>\n",
       "      <th>std_fit_time</th>\n",
       "      <th>mean_score_time</th>\n",
       "      <th>std_score_time</th>\n",
       "      <th>param_rfe__n_features_to_select</th>\n",
       "      <th>param_rgs__criterion</th>\n",
       "      <th>param_rgs__max_depth</th>\n",
       "      <th>param_rgs__min_samples_split</th>\n",
       "      <th>params</th>\n",
       "      <th>split0_test_score</th>\n",
       "      <th>split1_test_score</th>\n",
       "      <th>split2_test_score</th>\n",
       "      <th>split3_test_score</th>\n",
       "      <th>split4_test_score</th>\n",
       "      <th>mean_test_score</th>\n",
       "      <th>std_test_score</th>\n",
       "      <th>rank_test_score</th>\n",
       "    </tr>\n",
       "  </thead>\n",
       "  <tbody>\n",
       "    <tr>\n",
       "      <th>0</th>\n",
       "      <td>0.011598</td>\n",
       "      <td>0.000082</td>\n",
       "      <td>0.002865</td>\n",
       "      <td>0.000069</td>\n",
       "      <td>None</td>\n",
       "      <td>mse</td>\n",
       "      <td>7</td>\n",
       "      <td>6</td>\n",
       "      <td>{'rfe__n_features_to_select': None, 'rgs__crit...</td>\n",
       "      <td>0.886586</td>\n",
       "      <td>0.939069</td>\n",
       "      <td>0.715432</td>\n",
       "      <td>0.848142</td>\n",
       "      <td>-2.295075</td>\n",
       "      <td>0.218831</td>\n",
       "      <td>1.259127</td>\n",
       "      <td>51</td>\n",
       "    </tr>\n",
       "    <tr>\n",
       "      <th>1</th>\n",
       "      <td>0.012970</td>\n",
       "      <td>0.000872</td>\n",
       "      <td>0.003189</td>\n",
       "      <td>0.000343</td>\n",
       "      <td>None</td>\n",
       "      <td>mse</td>\n",
       "      <td>7</td>\n",
       "      <td>7</td>\n",
       "      <td>{'rfe__n_features_to_select': None, 'rgs__crit...</td>\n",
       "      <td>0.884346</td>\n",
       "      <td>0.890654</td>\n",
       "      <td>0.441542</td>\n",
       "      <td>0.853202</td>\n",
       "      <td>-2.295075</td>\n",
       "      <td>0.154934</td>\n",
       "      <td>1.236575</td>\n",
       "      <td>106</td>\n",
       "    </tr>\n",
       "    <tr>\n",
       "      <th>2</th>\n",
       "      <td>0.012077</td>\n",
       "      <td>0.002063</td>\n",
       "      <td>0.003333</td>\n",
       "      <td>0.000510</td>\n",
       "      <td>None</td>\n",
       "      <td>mse</td>\n",
       "      <td>7</td>\n",
       "      <td>8</td>\n",
       "      <td>{'rfe__n_features_to_select': None, 'rgs__crit...</td>\n",
       "      <td>0.884346</td>\n",
       "      <td>0.890654</td>\n",
       "      <td>0.482227</td>\n",
       "      <td>0.856056</td>\n",
       "      <td>-0.489610</td>\n",
       "      <td>0.524735</td>\n",
       "      <td>0.529848</td>\n",
       "      <td>1</td>\n",
       "    </tr>\n",
       "    <tr>\n",
       "      <th>3</th>\n",
       "      <td>0.010405</td>\n",
       "      <td>0.000656</td>\n",
       "      <td>0.003292</td>\n",
       "      <td>0.000319</td>\n",
       "      <td>None</td>\n",
       "      <td>mse</td>\n",
       "      <td>8</td>\n",
       "      <td>6</td>\n",
       "      <td>{'rfe__n_features_to_select': None, 'rgs__crit...</td>\n",
       "      <td>0.886586</td>\n",
       "      <td>0.939069</td>\n",
       "      <td>0.715432</td>\n",
       "      <td>0.848142</td>\n",
       "      <td>-2.295075</td>\n",
       "      <td>0.218831</td>\n",
       "      <td>1.259127</td>\n",
       "      <td>51</td>\n",
       "    </tr>\n",
       "    <tr>\n",
       "      <th>4</th>\n",
       "      <td>0.011363</td>\n",
       "      <td>0.000514</td>\n",
       "      <td>0.003243</td>\n",
       "      <td>0.000464</td>\n",
       "      <td>None</td>\n",
       "      <td>mse</td>\n",
       "      <td>8</td>\n",
       "      <td>7</td>\n",
       "      <td>{'rfe__n_features_to_select': None, 'rgs__crit...</td>\n",
       "      <td>0.884346</td>\n",
       "      <td>0.890654</td>\n",
       "      <td>0.441542</td>\n",
       "      <td>0.853202</td>\n",
       "      <td>-2.295075</td>\n",
       "      <td>0.154934</td>\n",
       "      <td>1.236575</td>\n",
       "      <td>106</td>\n",
       "    </tr>\n",
       "    <tr>\n",
       "      <th>...</th>\n",
       "      <td>...</td>\n",
       "      <td>...</td>\n",
       "      <td>...</td>\n",
       "      <td>...</td>\n",
       "      <td>...</td>\n",
       "      <td>...</td>\n",
       "      <td>...</td>\n",
       "      <td>...</td>\n",
       "      <td>...</td>\n",
       "      <td>...</td>\n",
       "      <td>...</td>\n",
       "      <td>...</td>\n",
       "      <td>...</td>\n",
       "      <td>...</td>\n",
       "      <td>...</td>\n",
       "      <td>...</td>\n",
       "      <td>...</td>\n",
       "    </tr>\n",
       "    <tr>\n",
       "      <th>220</th>\n",
       "      <td>0.007959</td>\n",
       "      <td>0.001186</td>\n",
       "      <td>0.000000</td>\n",
       "      <td>0.000000</td>\n",
       "      <td>8</td>\n",
       "      <td>poisson</td>\n",
       "      <td>10</td>\n",
       "      <td>7</td>\n",
       "      <td>{'rfe__n_features_to_select': 8, 'rgs__criteri...</td>\n",
       "      <td>NaN</td>\n",
       "      <td>NaN</td>\n",
       "      <td>NaN</td>\n",
       "      <td>NaN</td>\n",
       "      <td>NaN</td>\n",
       "      <td>NaN</td>\n",
       "      <td>NaN</td>\n",
       "      <td>160</td>\n",
       "    </tr>\n",
       "    <tr>\n",
       "      <th>221</th>\n",
       "      <td>0.008092</td>\n",
       "      <td>0.001182</td>\n",
       "      <td>0.000000</td>\n",
       "      <td>0.000000</td>\n",
       "      <td>8</td>\n",
       "      <td>poisson</td>\n",
       "      <td>10</td>\n",
       "      <td>8</td>\n",
       "      <td>{'rfe__n_features_to_select': 8, 'rgs__criteri...</td>\n",
       "      <td>NaN</td>\n",
       "      <td>NaN</td>\n",
       "      <td>NaN</td>\n",
       "      <td>NaN</td>\n",
       "      <td>NaN</td>\n",
       "      <td>NaN</td>\n",
       "      <td>NaN</td>\n",
       "      <td>161</td>\n",
       "    </tr>\n",
       "    <tr>\n",
       "      <th>222</th>\n",
       "      <td>0.007065</td>\n",
       "      <td>0.000577</td>\n",
       "      <td>0.000000</td>\n",
       "      <td>0.000000</td>\n",
       "      <td>8</td>\n",
       "      <td>poisson</td>\n",
       "      <td>11</td>\n",
       "      <td>6</td>\n",
       "      <td>{'rfe__n_features_to_select': 8, 'rgs__criteri...</td>\n",
       "      <td>NaN</td>\n",
       "      <td>NaN</td>\n",
       "      <td>NaN</td>\n",
       "      <td>NaN</td>\n",
       "      <td>NaN</td>\n",
       "      <td>NaN</td>\n",
       "      <td>NaN</td>\n",
       "      <td>162</td>\n",
       "    </tr>\n",
       "    <tr>\n",
       "      <th>223</th>\n",
       "      <td>0.007171</td>\n",
       "      <td>0.001088</td>\n",
       "      <td>0.000000</td>\n",
       "      <td>0.000000</td>\n",
       "      <td>8</td>\n",
       "      <td>poisson</td>\n",
       "      <td>11</td>\n",
       "      <td>7</td>\n",
       "      <td>{'rfe__n_features_to_select': 8, 'rgs__criteri...</td>\n",
       "      <td>NaN</td>\n",
       "      <td>NaN</td>\n",
       "      <td>NaN</td>\n",
       "      <td>NaN</td>\n",
       "      <td>NaN</td>\n",
       "      <td>NaN</td>\n",
       "      <td>NaN</td>\n",
       "      <td>187</td>\n",
       "    </tr>\n",
       "    <tr>\n",
       "      <th>224</th>\n",
       "      <td>0.008001</td>\n",
       "      <td>0.000914</td>\n",
       "      <td>0.000000</td>\n",
       "      <td>0.000000</td>\n",
       "      <td>8</td>\n",
       "      <td>poisson</td>\n",
       "      <td>11</td>\n",
       "      <td>8</td>\n",
       "      <td>{'rfe__n_features_to_select': 8, 'rgs__criteri...</td>\n",
       "      <td>NaN</td>\n",
       "      <td>NaN</td>\n",
       "      <td>NaN</td>\n",
       "      <td>NaN</td>\n",
       "      <td>NaN</td>\n",
       "      <td>NaN</td>\n",
       "      <td>NaN</td>\n",
       "      <td>225</td>\n",
       "    </tr>\n",
       "  </tbody>\n",
       "</table>\n",
       "<p>225 rows × 17 columns</p>\n",
       "</div>"
      ],
      "text/plain": [
       "     mean_fit_time  std_fit_time  mean_score_time  std_score_time  \\\n",
       "0         0.011598      0.000082         0.002865        0.000069   \n",
       "1         0.012970      0.000872         0.003189        0.000343   \n",
       "2         0.012077      0.002063         0.003333        0.000510   \n",
       "3         0.010405      0.000656         0.003292        0.000319   \n",
       "4         0.011363      0.000514         0.003243        0.000464   \n",
       "..             ...           ...              ...             ...   \n",
       "220       0.007959      0.001186         0.000000        0.000000   \n",
       "221       0.008092      0.001182         0.000000        0.000000   \n",
       "222       0.007065      0.000577         0.000000        0.000000   \n",
       "223       0.007171      0.001088         0.000000        0.000000   \n",
       "224       0.008001      0.000914         0.000000        0.000000   \n",
       "\n",
       "    param_rfe__n_features_to_select param_rgs__criterion param_rgs__max_depth  \\\n",
       "0                              None                  mse                    7   \n",
       "1                              None                  mse                    7   \n",
       "2                              None                  mse                    7   \n",
       "3                              None                  mse                    8   \n",
       "4                              None                  mse                    8   \n",
       "..                              ...                  ...                  ...   \n",
       "220                               8              poisson                   10   \n",
       "221                               8              poisson                   10   \n",
       "222                               8              poisson                   11   \n",
       "223                               8              poisson                   11   \n",
       "224                               8              poisson                   11   \n",
       "\n",
       "    param_rgs__min_samples_split  \\\n",
       "0                              6   \n",
       "1                              7   \n",
       "2                              8   \n",
       "3                              6   \n",
       "4                              7   \n",
       "..                           ...   \n",
       "220                            7   \n",
       "221                            8   \n",
       "222                            6   \n",
       "223                            7   \n",
       "224                            8   \n",
       "\n",
       "                                                params  split0_test_score  \\\n",
       "0    {'rfe__n_features_to_select': None, 'rgs__crit...           0.886586   \n",
       "1    {'rfe__n_features_to_select': None, 'rgs__crit...           0.884346   \n",
       "2    {'rfe__n_features_to_select': None, 'rgs__crit...           0.884346   \n",
       "3    {'rfe__n_features_to_select': None, 'rgs__crit...           0.886586   \n",
       "4    {'rfe__n_features_to_select': None, 'rgs__crit...           0.884346   \n",
       "..                                                 ...                ...   \n",
       "220  {'rfe__n_features_to_select': 8, 'rgs__criteri...                NaN   \n",
       "221  {'rfe__n_features_to_select': 8, 'rgs__criteri...                NaN   \n",
       "222  {'rfe__n_features_to_select': 8, 'rgs__criteri...                NaN   \n",
       "223  {'rfe__n_features_to_select': 8, 'rgs__criteri...                NaN   \n",
       "224  {'rfe__n_features_to_select': 8, 'rgs__criteri...                NaN   \n",
       "\n",
       "     split1_test_score  split2_test_score  split3_test_score  \\\n",
       "0             0.939069           0.715432           0.848142   \n",
       "1             0.890654           0.441542           0.853202   \n",
       "2             0.890654           0.482227           0.856056   \n",
       "3             0.939069           0.715432           0.848142   \n",
       "4             0.890654           0.441542           0.853202   \n",
       "..                 ...                ...                ...   \n",
       "220                NaN                NaN                NaN   \n",
       "221                NaN                NaN                NaN   \n",
       "222                NaN                NaN                NaN   \n",
       "223                NaN                NaN                NaN   \n",
       "224                NaN                NaN                NaN   \n",
       "\n",
       "     split4_test_score  mean_test_score  std_test_score  rank_test_score  \n",
       "0            -2.295075         0.218831        1.259127               51  \n",
       "1            -2.295075         0.154934        1.236575              106  \n",
       "2            -0.489610         0.524735        0.529848                1  \n",
       "3            -2.295075         0.218831        1.259127               51  \n",
       "4            -2.295075         0.154934        1.236575              106  \n",
       "..                 ...              ...             ...              ...  \n",
       "220                NaN              NaN             NaN              160  \n",
       "221                NaN              NaN             NaN              161  \n",
       "222                NaN              NaN             NaN              162  \n",
       "223                NaN              NaN             NaN              187  \n",
       "224                NaN              NaN             NaN              225  \n",
       "\n",
       "[225 rows x 17 columns]"
      ]
     },
     "execution_count": 433,
     "metadata": {},
     "output_type": "execute_result"
    }
   ],
   "source": [
    "res_dtr = pd.DataFrame(gridsearch.cv_results_)\n",
    "res_dtr"
   ]
  },
  {
   "cell_type": "code",
   "execution_count": 452,
   "metadata": {},
   "outputs": [
    {
     "name": "stdout",
     "output_type": "stream",
     "text": [
      "r2/variance train :  0.9147334523884709\n",
      "r2/variance test :  0.07905881425160055\n",
      "Residual sum of squares: 3.74\n"
     ]
    }
   ],
   "source": [
    "model_tuned = gridsearch.best_estimator_.fit(X_train, y_train)\n",
    "model_tuned.predict(X_test)\n",
    "\n",
    "print(\"r2/variance train : \", model_tuned.score(X_train,y_train))\n",
    "print(\"r2/variance test : \", model_tuned.score(X_test,y_test))\n",
    "print(\"Residual sum of squares: %.2f\"\n",
    "              % np.mean((model_tuned.predict(X_test) - y_test) ** 2))"
   ]
  },
  {
   "cell_type": "code",
   "execution_count": 453,
   "metadata": {},
   "outputs": [
    {
     "name": "stdout",
     "output_type": "stream",
     "text": [
      "r2/variance train :  0.9377828768534594\n",
      "r2/variance test :  0.6490616193047795\n",
      "Residual sum of squares: 1.42\n"
     ]
    }
   ],
   "source": [
    "model_tuned_rfr = gridsearch_rfr.best_estimator_.fit(X_train, y_train)\n",
    "model_tuned_rfr.predict(X_test)\n",
    "\n",
    "print(\"r2/variance train : \", model_tuned_rfr.score(X_train,y_train))\n",
    "print(\"r2/variance test : \", model_tuned_rfr.score(X_test,y_test))\n",
    "print(\"Residual sum of squares: %.2f\"\n",
    "              % np.mean((model_tuned_rfr.predict(X_test) - y_test) ** 2))"
   ]
  },
  {
   "cell_type": "code",
   "execution_count": 456,
   "metadata": {},
   "outputs": [
    {
     "name": "stdout",
     "output_type": "stream",
     "text": [
      "[17:14:51] WARNING: /Users/runner/miniforge3/conda-bld/xgboost_1593723618214/work/src/objective/regression_obj.cu:170: reg:linear is now deprecated in favor of reg:squarederror.\n",
      "[17:14:51] WARNING: /Users/runner/miniforge3/conda-bld/xgboost_1593723618214/work/src/learner.cc:480: \n",
      "Parameters: { estimators } might not be used.\n",
      "\n",
      "  This may not be accurate due to some parameters are only used in language bindings but\n",
      "  passed down to XGBoost core.  Or some parameters are not used but slip through this\n",
      "  verification. Please open an issue if you find above cases.\n",
      "\n",
      "\n",
      "[17:14:51] WARNING: /Users/runner/miniforge3/conda-bld/xgboost_1593723618214/work/src/objective/regression_obj.cu:170: reg:linear is now deprecated in favor of reg:squarederror.\n",
      "r2/variance train :  0.9905073827532397\n",
      "r2/variance test :  0.7480875370133506\n",
      "Residual sum of squares: 1.02\n"
     ]
    }
   ],
   "source": [
    "model_tuned_xgb = gridsearch_xgb.best_estimator_.fit(X_train, y_train)\n",
    "model_tuned_xgb.predict(X_test)\n",
    "\n",
    "print(\"r2/variance train : \", model_tuned_xgb.score(X_train,y_train))\n",
    "print(\"r2/variance test : \", model_tuned_xgb.score(X_test,y_test))\n",
    "print(\"Residual sum of squares: %.2f\"\n",
    "              % np.mean((model_tuned_xgb.predict(X_test) - y_test) ** 2))"
   ]
  },
  {
   "cell_type": "code",
   "execution_count": 457,
   "metadata": {},
   "outputs": [
    {
     "data": {
      "text/plain": [
       "0.4940603699859315"
      ]
     },
     "execution_count": 457,
     "metadata": {},
     "output_type": "execute_result"
    }
   ],
   "source": [
    "gridsearch_xgb.best_score_"
   ]
  },
  {
   "cell_type": "code",
   "execution_count": 460,
   "metadata": {},
   "outputs": [
    {
     "data": {
      "text/plain": [
       "Pipeline(steps=[('transformer',\n",
       "                 ColumnTransformer(remainder='passthrough',\n",
       "                                   transformers=[('onehot',\n",
       "                                                  Pipeline(steps=[('onehot',\n",
       "                                                                   OneHotEncoder(drop='first'))]),\n",
       "                                                  ['device'])])),\n",
       "                ('rfe',\n",
       "                 RFE(estimator=DecisionTreeRegressor(max_depth=9,\n",
       "                                                     random_state=111))),\n",
       "                ('rgs',\n",
       "                 DecisionTreeRegressor(max_depth=7, min_samples_split=9,\n",
       "                                       random_state=111))])"
      ]
     },
     "execution_count": 460,
     "metadata": {},
     "output_type": "execute_result"
    }
   ],
   "source": [
    "gridsearch.best_estimator_"
   ]
  },
  {
   "cell_type": "code",
   "execution_count": 461,
   "metadata": {},
   "outputs": [
    {
     "data": {
      "text/plain": [
       "3"
      ]
     },
     "execution_count": 461,
     "metadata": {},
     "output_type": "execute_result"
    }
   ],
   "source": [
    "gridsearch.best_index_"
   ]
  },
  {
   "cell_type": "code",
   "execution_count": 462,
   "metadata": {},
   "outputs": [
    {
     "data": {
      "text/html": [
       "<div>\n",
       "<style scoped>\n",
       "    .dataframe tbody tr th:only-of-type {\n",
       "        vertical-align: middle;\n",
       "    }\n",
       "\n",
       "    .dataframe tbody tr th {\n",
       "        vertical-align: top;\n",
       "    }\n",
       "\n",
       "    .dataframe thead th {\n",
       "        text-align: right;\n",
       "    }\n",
       "</style>\n",
       "<table border=\"1\" class=\"dataframe\">\n",
       "  <thead>\n",
       "    <tr style=\"text-align: right;\">\n",
       "      <th></th>\n",
       "      <th>hourofday</th>\n",
       "      <th>device</th>\n",
       "      <th>impr(top)%</th>\n",
       "      <th>clicks</th>\n",
       "      <th>impressions</th>\n",
       "      <th>ctr</th>\n",
       "      <th>avgcpc</th>\n",
       "      <th>cost</th>\n",
       "      <th>conversions</th>\n",
       "    </tr>\n",
       "  </thead>\n",
       "  <tbody>\n",
       "    <tr>\n",
       "      <th>138</th>\n",
       "      <td>23</td>\n",
       "      <td>Desktop</td>\n",
       "      <td>0.0</td>\n",
       "      <td>0</td>\n",
       "      <td>106</td>\n",
       "      <td>0.00</td>\n",
       "      <td>0.00</td>\n",
       "      <td>0.00</td>\n",
       "      <td>0.0</td>\n",
       "    </tr>\n",
       "    <tr>\n",
       "      <th>6</th>\n",
       "      <td>11</td>\n",
       "      <td>Desktop</td>\n",
       "      <td>62.5</td>\n",
       "      <td>7</td>\n",
       "      <td>624</td>\n",
       "      <td>1.12</td>\n",
       "      <td>730.98</td>\n",
       "      <td>5116.89</td>\n",
       "      <td>2.4</td>\n",
       "    </tr>\n",
       "    <tr>\n",
       "      <th>45</th>\n",
       "      <td>22</td>\n",
       "      <td>Tablet</td>\n",
       "      <td>0.0</td>\n",
       "      <td>0</td>\n",
       "      <td>0</td>\n",
       "      <td>0.00</td>\n",
       "      <td>0.00</td>\n",
       "      <td>0.00</td>\n",
       "      <td>0.0</td>\n",
       "    </tr>\n",
       "    <tr>\n",
       "      <th>3</th>\n",
       "      <td>15</td>\n",
       "      <td>Desktop</td>\n",
       "      <td>60.0</td>\n",
       "      <td>0</td>\n",
       "      <td>534</td>\n",
       "      <td>0.00</td>\n",
       "      <td>0.00</td>\n",
       "      <td>0.00</td>\n",
       "      <td>0.0</td>\n",
       "    </tr>\n",
       "    <tr>\n",
       "      <th>54</th>\n",
       "      <td>22</td>\n",
       "      <td>Desktop</td>\n",
       "      <td>0.0</td>\n",
       "      <td>0</td>\n",
       "      <td>254</td>\n",
       "      <td>0.00</td>\n",
       "      <td>0.00</td>\n",
       "      <td>0.00</td>\n",
       "      <td>0.0</td>\n",
       "    </tr>\n",
       "  </tbody>\n",
       "</table>\n",
       "</div>"
      ],
      "text/plain": [
       "     hourofday   device  impr(top)%  clicks  impressions   ctr  avgcpc  \\\n",
       "138         23  Desktop         0.0       0          106  0.00    0.00   \n",
       "6           11  Desktop        62.5       7          624  1.12  730.98   \n",
       "45          22   Tablet         0.0       0            0  0.00    0.00   \n",
       "3           15  Desktop        60.0       0          534  0.00    0.00   \n",
       "54          22  Desktop         0.0       0          254  0.00    0.00   \n",
       "\n",
       "        cost  conversions  \n",
       "138     0.00          0.0  \n",
       "6    5116.89          2.4  \n",
       "45      0.00          0.0  \n",
       "3       0.00          0.0  \n",
       "54      0.00          0.0  "
      ]
     },
     "execution_count": 462,
     "metadata": {},
     "output_type": "execute_result"
    }
   ],
   "source": [
    "X_train.head()"
   ]
  },
  {
   "cell_type": "code",
   "execution_count": 467,
   "metadata": {},
   "outputs": [
    {
     "data": {
      "text/plain": [
       "array([27.56428571])"
      ]
     },
     "execution_count": 467,
     "metadata": {},
     "output_type": "execute_result"
    }
   ],
   "source": [
    "add1 = [[11, 'Desktop', 60, 5, 100, 0, 0, 3000, 1]]\n",
    "model_tuned.predict(pd.DataFrame(add1, columns=X_train.columns))"
   ]
  },
  {
   "cell_type": "code",
   "execution_count": 479,
   "metadata": {},
   "outputs": [
    {
     "data": {
      "text/plain": [
       "array([0.])"
      ]
     },
     "execution_count": 479,
     "metadata": {},
     "output_type": "execute_result"
    }
   ],
   "source": [
    "add2 = [[1, 'Mobile', 60, 5, 0, 0, 0, 0, 0]]\n",
    "model_tuned.predict(pd.DataFrame(add2, columns=X_train.columns))"
   ]
  },
  {
   "cell_type": "code",
   "execution_count": null,
   "metadata": {},
   "outputs": [],
   "source": []
  },
  {
   "cell_type": "code",
   "execution_count": null,
   "metadata": {},
   "outputs": [],
   "source": []
  }
 ],
 "metadata": {
  "kernelspec": {
   "display_name": "Python 3",
   "language": "python",
   "name": "python3"
  },
  "language_info": {
   "codemirror_mode": {
    "name": "ipython",
    "version": 3
   },
   "file_extension": ".py",
   "mimetype": "text/x-python",
   "name": "python",
   "nbconvert_exporter": "python",
   "pygments_lexer": "ipython3",
   "version": "3.7.9"
  }
 },
 "nbformat": 4,
 "nbformat_minor": 4
}
